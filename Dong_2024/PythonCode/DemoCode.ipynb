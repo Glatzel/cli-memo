{
 "cells": [
  {
   "cell_type": "markdown",
   "id": "211bc0dd",
   "metadata": {},
   "source": [
    "# 一、读取数据"
   ]
  },
  {
   "cell_type": "code",
   "execution_count": 6,
   "id": "4d207379",
   "metadata": {},
   "outputs": [],
   "source": [
    "import pandas as pd\n",
    "import os"
   ]
  },
  {
   "cell_type": "code",
   "execution_count": 7,
   "id": "e86a6cbc",
   "metadata": {},
   "outputs": [],
   "source": [
    "# 数据文件\n",
    "\n",
    "# 批数据目录\n",
    "# batchData_dirPath= \"E:\\\\BaiduSyncdisk\\\\Dong_cityu\\\\数据收集与处理\\\\0625-water2_2024-0626-1431\\\\0625-water2\\\\\"\n",
    "batchData_dirPath= \"E:\\\\Python_jupyterNotebook\\\\cityU_data\\\\orgin_data\\\\water2_2526\\\\\"\n",
    "\n",
    "\n",
    "# 相对路径：批数据目录下的不同Com目录\n",
    "com3_dirPath = \"COM-3\\\\measureData\\\\\"\n",
    "com4_dirPath = \"COM-4\\\\measureData\\\\\"\n",
    "com4_dirPath = \"COM-5\\\\measureData\\\\\"\n",
    "\n",
    "# 具体文件名\n",
    "com3_file = \"com3-2526.csv\"\n",
    "com4_file = \"com4-2526.csv\"\n",
    "com5_file = \"com5-2526.csv\"\n",
    "\n",
    "\n",
    "# 拼接完整路径名字\n",
    "def gainFullName(*args):\n",
    "    \"\"\"\n",
    "    拼接传入的多个参数成Windows可访问的路径。\n",
    "    \n",
    "    参数:\n",
    "        *args: 任意数量的路径部分参数\n",
    "    \n",
    "    返回:\n",
    "        str: 拼接后的完整路径\n",
    "    \"\"\"\n",
    "    # 使用os.path.join来拼接路径\n",
    "    full_path = os.path.join(*args)\n",
    "    print(full_path)\n",
    "    # 将路径中的斜杠转换为反斜杠\n",
    "#     full_path = full_path.replace('/', '\\\\')\n",
    "    return full_path"
   ]
  },
  {
   "cell_type": "markdown",
   "id": "994deff0",
   "metadata": {},
   "source": [
    "## 1.1 获取绝对路径"
   ]
  },
  {
   "cell_type": "code",
   "execution_count": 8,
   "id": "81fff4f1",
   "metadata": {
    "scrolled": true
   },
   "outputs": [
    {
     "name": "stdout",
     "output_type": "stream",
     "text": [
      "E:\\Python_jupyterNotebook\\cityU_data\\orgin_data\\water2_2526\\COM-3\\measureData\\com3-2526.csv\n",
      "E:\\Python_jupyterNotebook\\cityU_data\\orgin_data\\water2_2526\\COM-5\\measureData\\com4-2526.csv\n",
      "E:\\Python_jupyterNotebook\\cityU_data\\orgin_data\\water2_2526\\COM-5\\measureData\\com5-2526.csv\n"
     ]
    }
   ],
   "source": [
    "com3_fullName=gainFullName(batchData_dirPath, com3_dirPath, com3_file)\n",
    "com4_fullName=gainFullName(batchData_dirPath, com4_dirPath, com4_file)\n",
    "com5_fullName=gainFullName(batchData_dirPath, com5_dirPath, com5_file)"
   ]
  },
  {
   "cell_type": "code",
   "execution_count": 9,
   "id": "11071d02",
   "metadata": {
    "scrolled": true
   },
   "outputs": [
    {
     "name": "stdout",
     "output_type": "stream",
     "text": [
      "E:\\Python_jupyterNotebook\\cityU_data\\orgin_data\\water2_2526\\COM-3\\measureData\\com3-2526.csv\n",
      "E:\\Python_jupyterNotebook\\cityU_data\\orgin_data\\water2_2526\\COM-5\\measureData\\com4-2526.csv\n",
      "E:\\Python_jupyterNotebook\\cityU_data\\orgin_data\\water2_2526\\COM-5\\measureData\\com5-2526.csv\n"
     ]
    }
   ],
   "source": [
    "print(com3_fullName)\n",
    "print(com4_fullName)\n",
    "print(com5_fullName)"
   ]
  },
  {
   "cell_type": "markdown",
   "id": "5c47ada1",
   "metadata": {},
   "source": [
    "## 1.2 读取数据"
   ]
  },
  {
   "cell_type": "code",
   "execution_count": 10,
   "id": "3b5b5bed",
   "metadata": {
    "scrolled": true
   },
   "outputs": [
    {
     "ename": "FileNotFoundError",
     "evalue": "[Errno 2] No such file or directory: 'E:\\\\Python_jupyterNotebook\\\\cityU_data\\\\orgin_data\\\\water2_2526\\\\COM-5\\\\measureData\\\\com4-2526.csv'",
     "output_type": "error",
     "traceback": [
      "\u001b[1;31m---------------------------------------------------------------------------\u001b[0m",
      "\u001b[1;31mFileNotFoundError\u001b[0m                         Traceback (most recent call last)",
      "\u001b[1;32m~\\AppData\\Local\\Temp\\ipykernel_6880\\2303009604.py\u001b[0m in \u001b[0;36m<module>\u001b[1;34m\u001b[0m\n\u001b[0;32m      1\u001b[0m \u001b[0mcom3_data\u001b[0m \u001b[1;33m=\u001b[0m \u001b[0mpd\u001b[0m\u001b[1;33m.\u001b[0m\u001b[0mread_csv\u001b[0m\u001b[1;33m(\u001b[0m\u001b[0mcom3_fullName\u001b[0m\u001b[1;33m,\u001b[0m \u001b[0mencoding\u001b[0m\u001b[1;33m=\u001b[0m\u001b[1;34m'UTF-8'\u001b[0m\u001b[1;33m)\u001b[0m\u001b[1;33m\u001b[0m\u001b[1;33m\u001b[0m\u001b[0m\n\u001b[1;32m----> 2\u001b[1;33m \u001b[0mcom4_data\u001b[0m \u001b[1;33m=\u001b[0m \u001b[0mpd\u001b[0m\u001b[1;33m.\u001b[0m\u001b[0mread_csv\u001b[0m\u001b[1;33m(\u001b[0m\u001b[0mcom4_fullName\u001b[0m\u001b[1;33m,\u001b[0m \u001b[0mencoding\u001b[0m\u001b[1;33m=\u001b[0m\u001b[1;34m'UTF-8'\u001b[0m\u001b[1;33m)\u001b[0m\u001b[1;33m\u001b[0m\u001b[1;33m\u001b[0m\u001b[0m\n\u001b[0m\u001b[0;32m      3\u001b[0m \u001b[0mcom5_data\u001b[0m \u001b[1;33m=\u001b[0m \u001b[0mpd\u001b[0m\u001b[1;33m.\u001b[0m\u001b[0mread_csv\u001b[0m\u001b[1;33m(\u001b[0m\u001b[0mcom5_fullName\u001b[0m\u001b[1;33m,\u001b[0m \u001b[0mencoding\u001b[0m\u001b[1;33m=\u001b[0m\u001b[1;34m'UTF-8'\u001b[0m\u001b[1;33m)\u001b[0m\u001b[1;33m\u001b[0m\u001b[1;33m\u001b[0m\u001b[0m\n",
      "\u001b[1;32mD:\\Environment\\MiniConda\\envs\\dong_math_2023\\lib\\site-packages\\pandas\\util\\_decorators.py\u001b[0m in \u001b[0;36mwrapper\u001b[1;34m(*args, **kwargs)\u001b[0m\n\u001b[0;32m    309\u001b[0m                     \u001b[0mstacklevel\u001b[0m\u001b[1;33m=\u001b[0m\u001b[0mstacklevel\u001b[0m\u001b[1;33m,\u001b[0m\u001b[1;33m\u001b[0m\u001b[1;33m\u001b[0m\u001b[0m\n\u001b[0;32m    310\u001b[0m                 )\n\u001b[1;32m--> 311\u001b[1;33m             \u001b[1;32mreturn\u001b[0m \u001b[0mfunc\u001b[0m\u001b[1;33m(\u001b[0m\u001b[1;33m*\u001b[0m\u001b[0margs\u001b[0m\u001b[1;33m,\u001b[0m \u001b[1;33m**\u001b[0m\u001b[0mkwargs\u001b[0m\u001b[1;33m)\u001b[0m\u001b[1;33m\u001b[0m\u001b[1;33m\u001b[0m\u001b[0m\n\u001b[0m\u001b[0;32m    312\u001b[0m \u001b[1;33m\u001b[0m\u001b[0m\n\u001b[0;32m    313\u001b[0m         \u001b[1;32mreturn\u001b[0m \u001b[0mwrapper\u001b[0m\u001b[1;33m\u001b[0m\u001b[1;33m\u001b[0m\u001b[0m\n",
      "\u001b[1;32mD:\\Environment\\MiniConda\\envs\\dong_math_2023\\lib\\site-packages\\pandas\\io\\parsers\\readers.py\u001b[0m in \u001b[0;36mread_csv\u001b[1;34m(filepath_or_buffer, sep, delimiter, header, names, index_col, usecols, squeeze, prefix, mangle_dupe_cols, dtype, engine, converters, true_values, false_values, skipinitialspace, skiprows, skipfooter, nrows, na_values, keep_default_na, na_filter, verbose, skip_blank_lines, parse_dates, infer_datetime_format, keep_date_col, date_parser, dayfirst, cache_dates, iterator, chunksize, compression, thousands, decimal, lineterminator, quotechar, quoting, doublequote, escapechar, comment, encoding, encoding_errors, dialect, error_bad_lines, warn_bad_lines, on_bad_lines, delim_whitespace, low_memory, memory_map, float_precision, storage_options)\u001b[0m\n\u001b[0;32m    584\u001b[0m     \u001b[0mkwds\u001b[0m\u001b[1;33m.\u001b[0m\u001b[0mupdate\u001b[0m\u001b[1;33m(\u001b[0m\u001b[0mkwds_defaults\u001b[0m\u001b[1;33m)\u001b[0m\u001b[1;33m\u001b[0m\u001b[1;33m\u001b[0m\u001b[0m\n\u001b[0;32m    585\u001b[0m \u001b[1;33m\u001b[0m\u001b[0m\n\u001b[1;32m--> 586\u001b[1;33m     \u001b[1;32mreturn\u001b[0m \u001b[0m_read\u001b[0m\u001b[1;33m(\u001b[0m\u001b[0mfilepath_or_buffer\u001b[0m\u001b[1;33m,\u001b[0m \u001b[0mkwds\u001b[0m\u001b[1;33m)\u001b[0m\u001b[1;33m\u001b[0m\u001b[1;33m\u001b[0m\u001b[0m\n\u001b[0m\u001b[0;32m    587\u001b[0m \u001b[1;33m\u001b[0m\u001b[0m\n\u001b[0;32m    588\u001b[0m \u001b[1;33m\u001b[0m\u001b[0m\n",
      "\u001b[1;32mD:\\Environment\\MiniConda\\envs\\dong_math_2023\\lib\\site-packages\\pandas\\io\\parsers\\readers.py\u001b[0m in \u001b[0;36m_read\u001b[1;34m(filepath_or_buffer, kwds)\u001b[0m\n\u001b[0;32m    480\u001b[0m \u001b[1;33m\u001b[0m\u001b[0m\n\u001b[0;32m    481\u001b[0m     \u001b[1;31m# Create the parser.\u001b[0m\u001b[1;33m\u001b[0m\u001b[1;33m\u001b[0m\u001b[1;33m\u001b[0m\u001b[0m\n\u001b[1;32m--> 482\u001b[1;33m     \u001b[0mparser\u001b[0m \u001b[1;33m=\u001b[0m \u001b[0mTextFileReader\u001b[0m\u001b[1;33m(\u001b[0m\u001b[0mfilepath_or_buffer\u001b[0m\u001b[1;33m,\u001b[0m \u001b[1;33m**\u001b[0m\u001b[0mkwds\u001b[0m\u001b[1;33m)\u001b[0m\u001b[1;33m\u001b[0m\u001b[1;33m\u001b[0m\u001b[0m\n\u001b[0m\u001b[0;32m    483\u001b[0m \u001b[1;33m\u001b[0m\u001b[0m\n\u001b[0;32m    484\u001b[0m     \u001b[1;32mif\u001b[0m \u001b[0mchunksize\u001b[0m \u001b[1;32mor\u001b[0m \u001b[0miterator\u001b[0m\u001b[1;33m:\u001b[0m\u001b[1;33m\u001b[0m\u001b[1;33m\u001b[0m\u001b[0m\n",
      "\u001b[1;32mD:\\Environment\\MiniConda\\envs\\dong_math_2023\\lib\\site-packages\\pandas\\io\\parsers\\readers.py\u001b[0m in \u001b[0;36m__init__\u001b[1;34m(self, f, engine, **kwds)\u001b[0m\n\u001b[0;32m    809\u001b[0m             \u001b[0mself\u001b[0m\u001b[1;33m.\u001b[0m\u001b[0moptions\u001b[0m\u001b[1;33m[\u001b[0m\u001b[1;34m\"has_index_names\"\u001b[0m\u001b[1;33m]\u001b[0m \u001b[1;33m=\u001b[0m \u001b[0mkwds\u001b[0m\u001b[1;33m[\u001b[0m\u001b[1;34m\"has_index_names\"\u001b[0m\u001b[1;33m]\u001b[0m\u001b[1;33m\u001b[0m\u001b[1;33m\u001b[0m\u001b[0m\n\u001b[0;32m    810\u001b[0m \u001b[1;33m\u001b[0m\u001b[0m\n\u001b[1;32m--> 811\u001b[1;33m         \u001b[0mself\u001b[0m\u001b[1;33m.\u001b[0m\u001b[0m_engine\u001b[0m \u001b[1;33m=\u001b[0m \u001b[0mself\u001b[0m\u001b[1;33m.\u001b[0m\u001b[0m_make_engine\u001b[0m\u001b[1;33m(\u001b[0m\u001b[0mself\u001b[0m\u001b[1;33m.\u001b[0m\u001b[0mengine\u001b[0m\u001b[1;33m)\u001b[0m\u001b[1;33m\u001b[0m\u001b[1;33m\u001b[0m\u001b[0m\n\u001b[0m\u001b[0;32m    812\u001b[0m \u001b[1;33m\u001b[0m\u001b[0m\n\u001b[0;32m    813\u001b[0m     \u001b[1;32mdef\u001b[0m \u001b[0mclose\u001b[0m\u001b[1;33m(\u001b[0m\u001b[0mself\u001b[0m\u001b[1;33m)\u001b[0m\u001b[1;33m:\u001b[0m\u001b[1;33m\u001b[0m\u001b[1;33m\u001b[0m\u001b[0m\n",
      "\u001b[1;32mD:\\Environment\\MiniConda\\envs\\dong_math_2023\\lib\\site-packages\\pandas\\io\\parsers\\readers.py\u001b[0m in \u001b[0;36m_make_engine\u001b[1;34m(self, engine)\u001b[0m\n\u001b[0;32m   1038\u001b[0m             )\n\u001b[0;32m   1039\u001b[0m         \u001b[1;31m# error: Too many arguments for \"ParserBase\"\u001b[0m\u001b[1;33m\u001b[0m\u001b[1;33m\u001b[0m\u001b[1;33m\u001b[0m\u001b[0m\n\u001b[1;32m-> 1040\u001b[1;33m         \u001b[1;32mreturn\u001b[0m \u001b[0mmapping\u001b[0m\u001b[1;33m[\u001b[0m\u001b[0mengine\u001b[0m\u001b[1;33m]\u001b[0m\u001b[1;33m(\u001b[0m\u001b[0mself\u001b[0m\u001b[1;33m.\u001b[0m\u001b[0mf\u001b[0m\u001b[1;33m,\u001b[0m \u001b[1;33m**\u001b[0m\u001b[0mself\u001b[0m\u001b[1;33m.\u001b[0m\u001b[0moptions\u001b[0m\u001b[1;33m)\u001b[0m  \u001b[1;31m# type: ignore[call-arg]\u001b[0m\u001b[1;33m\u001b[0m\u001b[1;33m\u001b[0m\u001b[0m\n\u001b[0m\u001b[0;32m   1041\u001b[0m \u001b[1;33m\u001b[0m\u001b[0m\n\u001b[0;32m   1042\u001b[0m     \u001b[1;32mdef\u001b[0m \u001b[0m_failover_to_python\u001b[0m\u001b[1;33m(\u001b[0m\u001b[0mself\u001b[0m\u001b[1;33m)\u001b[0m\u001b[1;33m:\u001b[0m\u001b[1;33m\u001b[0m\u001b[1;33m\u001b[0m\u001b[0m\n",
      "\u001b[1;32mD:\\Environment\\MiniConda\\envs\\dong_math_2023\\lib\\site-packages\\pandas\\io\\parsers\\c_parser_wrapper.py\u001b[0m in \u001b[0;36m__init__\u001b[1;34m(self, src, **kwds)\u001b[0m\n\u001b[0;32m     49\u001b[0m \u001b[1;33m\u001b[0m\u001b[0m\n\u001b[0;32m     50\u001b[0m         \u001b[1;31m# open handles\u001b[0m\u001b[1;33m\u001b[0m\u001b[1;33m\u001b[0m\u001b[1;33m\u001b[0m\u001b[0m\n\u001b[1;32m---> 51\u001b[1;33m         \u001b[0mself\u001b[0m\u001b[1;33m.\u001b[0m\u001b[0m_open_handles\u001b[0m\u001b[1;33m(\u001b[0m\u001b[0msrc\u001b[0m\u001b[1;33m,\u001b[0m \u001b[0mkwds\u001b[0m\u001b[1;33m)\u001b[0m\u001b[1;33m\u001b[0m\u001b[1;33m\u001b[0m\u001b[0m\n\u001b[0m\u001b[0;32m     52\u001b[0m         \u001b[1;32massert\u001b[0m \u001b[0mself\u001b[0m\u001b[1;33m.\u001b[0m\u001b[0mhandles\u001b[0m \u001b[1;32mis\u001b[0m \u001b[1;32mnot\u001b[0m \u001b[1;32mNone\u001b[0m\u001b[1;33m\u001b[0m\u001b[1;33m\u001b[0m\u001b[0m\n\u001b[0;32m     53\u001b[0m \u001b[1;33m\u001b[0m\u001b[0m\n",
      "\u001b[1;32mD:\\Environment\\MiniConda\\envs\\dong_math_2023\\lib\\site-packages\\pandas\\io\\parsers\\base_parser.py\u001b[0m in \u001b[0;36m_open_handles\u001b[1;34m(self, src, kwds)\u001b[0m\n\u001b[0;32m    227\u001b[0m             \u001b[0mmemory_map\u001b[0m\u001b[1;33m=\u001b[0m\u001b[0mkwds\u001b[0m\u001b[1;33m.\u001b[0m\u001b[0mget\u001b[0m\u001b[1;33m(\u001b[0m\u001b[1;34m\"memory_map\"\u001b[0m\u001b[1;33m,\u001b[0m \u001b[1;32mFalse\u001b[0m\u001b[1;33m)\u001b[0m\u001b[1;33m,\u001b[0m\u001b[1;33m\u001b[0m\u001b[1;33m\u001b[0m\u001b[0m\n\u001b[0;32m    228\u001b[0m             \u001b[0mstorage_options\u001b[0m\u001b[1;33m=\u001b[0m\u001b[0mkwds\u001b[0m\u001b[1;33m.\u001b[0m\u001b[0mget\u001b[0m\u001b[1;33m(\u001b[0m\u001b[1;34m\"storage_options\"\u001b[0m\u001b[1;33m,\u001b[0m \u001b[1;32mNone\u001b[0m\u001b[1;33m)\u001b[0m\u001b[1;33m,\u001b[0m\u001b[1;33m\u001b[0m\u001b[1;33m\u001b[0m\u001b[0m\n\u001b[1;32m--> 229\u001b[1;33m             \u001b[0merrors\u001b[0m\u001b[1;33m=\u001b[0m\u001b[0mkwds\u001b[0m\u001b[1;33m.\u001b[0m\u001b[0mget\u001b[0m\u001b[1;33m(\u001b[0m\u001b[1;34m\"encoding_errors\"\u001b[0m\u001b[1;33m,\u001b[0m \u001b[1;34m\"strict\"\u001b[0m\u001b[1;33m)\u001b[0m\u001b[1;33m,\u001b[0m\u001b[1;33m\u001b[0m\u001b[1;33m\u001b[0m\u001b[0m\n\u001b[0m\u001b[0;32m    230\u001b[0m         )\n\u001b[0;32m    231\u001b[0m \u001b[1;33m\u001b[0m\u001b[0m\n",
      "\u001b[1;32mD:\\Environment\\MiniConda\\envs\\dong_math_2023\\lib\\site-packages\\pandas\\io\\common.py\u001b[0m in \u001b[0;36mget_handle\u001b[1;34m(path_or_buf, mode, encoding, compression, memory_map, is_text, errors, storage_options)\u001b[0m\n\u001b[0;32m    705\u001b[0m                 \u001b[0mencoding\u001b[0m\u001b[1;33m=\u001b[0m\u001b[0mioargs\u001b[0m\u001b[1;33m.\u001b[0m\u001b[0mencoding\u001b[0m\u001b[1;33m,\u001b[0m\u001b[1;33m\u001b[0m\u001b[1;33m\u001b[0m\u001b[0m\n\u001b[0;32m    706\u001b[0m                 \u001b[0merrors\u001b[0m\u001b[1;33m=\u001b[0m\u001b[0merrors\u001b[0m\u001b[1;33m,\u001b[0m\u001b[1;33m\u001b[0m\u001b[1;33m\u001b[0m\u001b[0m\n\u001b[1;32m--> 707\u001b[1;33m                 \u001b[0mnewline\u001b[0m\u001b[1;33m=\u001b[0m\u001b[1;34m\"\"\u001b[0m\u001b[1;33m,\u001b[0m\u001b[1;33m\u001b[0m\u001b[1;33m\u001b[0m\u001b[0m\n\u001b[0m\u001b[0;32m    708\u001b[0m             )\n\u001b[0;32m    709\u001b[0m         \u001b[1;32melse\u001b[0m\u001b[1;33m:\u001b[0m\u001b[1;33m\u001b[0m\u001b[1;33m\u001b[0m\u001b[0m\n",
      "\u001b[1;31mFileNotFoundError\u001b[0m: [Errno 2] No such file or directory: 'E:\\\\Python_jupyterNotebook\\\\cityU_data\\\\orgin_data\\\\water2_2526\\\\COM-5\\\\measureData\\\\com4-2526.csv'"
     ]
    }
   ],
   "source": [
    "com3_data = pd.read_csv(com3_fullName, encoding='UTF-8')\n",
    "com4_data = pd.read_csv(com4_fullName, encoding='UTF-8')\n",
    "com5_data = pd.read_csv(com5_fullName, encoding='UTF-8')"
   ]
  },
  {
   "cell_type": "code",
   "execution_count": null,
   "id": "61987387",
   "metadata": {},
   "outputs": [],
   "source": [
    "# 将三个数据装进列表中好调用\n",
    "dataList_d = [com3_data, com4_data, com5_data]"
   ]
  },
  {
   "cell_type": "markdown",
   "id": "551b2c60",
   "metadata": {},
   "source": [
    "## 1.3 数据详情"
   ]
  },
  {
   "cell_type": "markdown",
   "id": "e11c6ba1",
   "metadata": {},
   "source": [
    "### 1.3.1 com3数据"
   ]
  },
  {
   "cell_type": "code",
   "execution_count": 87,
   "id": "bfd02c73",
   "metadata": {},
   "outputs": [
    {
     "data": {
      "text/html": [
       "<div>\n",
       "<style scoped>\n",
       "    .dataframe tbody tr th:only-of-type {\n",
       "        vertical-align: middle;\n",
       "    }\n",
       "\n",
       "    .dataframe tbody tr th {\n",
       "        vertical-align: top;\n",
       "    }\n",
       "\n",
       "    .dataframe thead th {\n",
       "        text-align: right;\n",
       "    }\n",
       "</style>\n",
       "<table border=\"1\" class=\"dataframe\">\n",
       "  <thead>\n",
       "    <tr style=\"text-align: right;\">\n",
       "      <th></th>\n",
       "      <th>timestamp</th>\n",
       "      <th>Vi(V)</th>\n",
       "      <th>Vo(V)</th>\n",
       "      <th>current(mA)</th>\n",
       "    </tr>\n",
       "  </thead>\n",
       "  <tbody>\n",
       "    <tr>\n",
       "      <th>0</th>\n",
       "      <td>2024-06-25T14:37:22.917</td>\n",
       "      <td>0.604235</td>\n",
       "      <td>0.604235</td>\n",
       "      <td>0</td>\n",
       "    </tr>\n",
       "    <tr>\n",
       "      <th>1</th>\n",
       "      <td>2024-06-25T14:38:22.977</td>\n",
       "      <td>0.603542</td>\n",
       "      <td>0.603542</td>\n",
       "      <td>0</td>\n",
       "    </tr>\n",
       "    <tr>\n",
       "      <th>2</th>\n",
       "      <td>2024-06-25T14:39:23.052</td>\n",
       "      <td>0.603471</td>\n",
       "      <td>0.603471</td>\n",
       "      <td>0</td>\n",
       "    </tr>\n",
       "    <tr>\n",
       "      <th>3</th>\n",
       "      <td>2024-06-25T14:40:23.126</td>\n",
       "      <td>0.603469</td>\n",
       "      <td>0.603469</td>\n",
       "      <td>0</td>\n",
       "    </tr>\n",
       "    <tr>\n",
       "      <th>4</th>\n",
       "      <td>2024-06-25T14:41:23.191</td>\n",
       "      <td>0.603478</td>\n",
       "      <td>0.603478</td>\n",
       "      <td>0</td>\n",
       "    </tr>\n",
       "  </tbody>\n",
       "</table>\n",
       "</div>"
      ],
      "text/plain": [
       "                 timestamp     Vi(V)     Vo(V)  current(mA)\n",
       "0  2024-06-25T14:37:22.917  0.604235  0.604235            0\n",
       "1  2024-06-25T14:38:22.977  0.603542  0.603542            0\n",
       "2  2024-06-25T14:39:23.052  0.603471  0.603471            0\n",
       "3  2024-06-25T14:40:23.126  0.603469  0.603469            0\n",
       "4  2024-06-25T14:41:23.191  0.603478  0.603478            0"
      ]
     },
     "execution_count": 87,
     "metadata": {},
     "output_type": "execute_result"
    }
   ],
   "source": [
    "dataList_d[0].head()"
   ]
  },
  {
   "cell_type": "code",
   "execution_count": 7,
   "id": "2bc90209",
   "metadata": {},
   "outputs": [
    {
     "data": {
      "text/plain": [
       "RangeIndex(start=0, stop=1433, step=1)"
      ]
     },
     "execution_count": 7,
     "metadata": {},
     "output_type": "execute_result"
    }
   ],
   "source": [
    "com3_data.index"
   ]
  },
  {
   "cell_type": "code",
   "execution_count": 8,
   "id": "1e899f80",
   "metadata": {},
   "outputs": [
    {
     "name": "stdout",
     "output_type": "stream",
     "text": [
      " start：2024-06-25T14:37:22.917 \n",
      " end: 2024-06-26T14:30:55.930 \n"
     ]
    }
   ],
   "source": [
    "# 描述数据最小值、最大值、均值、方差\n",
    "def describe_d(series_d):\n",
    "    print(f\" start：{series_d.min()} \\n end: {series_d.max()} \")\n",
    "    \n",
    "describe_d(com3_data[\"timestamp\"])"
   ]
  },
  {
   "cell_type": "code",
   "execution_count": 29,
   "id": "3b985cb6",
   "metadata": {},
   "outputs": [
    {
     "data": {
      "text/plain": [
       "timestamp       object\n",
       "Vi(V)          float64\n",
       "Vo(V)          float64\n",
       "current(mA)      int64\n",
       "dtype: object"
      ]
     },
     "execution_count": 29,
     "metadata": {},
     "output_type": "execute_result"
    }
   ],
   "source": [
    "# 检查时间戳的数据类型\n",
    "com3_data.dtypes"
   ]
  },
  {
   "cell_type": "code",
   "execution_count": 52,
   "id": "be42897c",
   "metadata": {},
   "outputs": [
    {
     "data": {
      "text/plain": [
       "0       2024-06-25 14:37:22.917\n",
       "1       2024-06-25 14:38:22.977\n",
       "2       2024-06-25 14:39:23.052\n",
       "3       2024-06-25 14:40:23.126\n",
       "4       2024-06-25 14:41:23.191\n",
       "                 ...           \n",
       "1428    2024-06-26 14:26:55.705\n",
       "1429    2024-06-26 14:27:55.755\n",
       "1430    2024-06-26 14:28:55.812\n",
       "1431    2024-06-26 14:29:55.868\n",
       "1432    2024-06-26 14:30:55.930\n",
       "Name: timestamp, Length: 1433, dtype: object"
      ]
     },
     "execution_count": 52,
     "metadata": {},
     "output_type": "execute_result"
    }
   ],
   "source": [
    "com3_data[\"timestamp\"].str.replace(\"T\", \" \")"
   ]
  },
  {
   "cell_type": "markdown",
   "id": "dee11c6e",
   "metadata": {},
   "source": [
    "### 1.3.2 com4数据"
   ]
  },
  {
   "cell_type": "code",
   "execution_count": 94,
   "id": "29842cc3",
   "metadata": {},
   "outputs": [
    {
     "data": {
      "text/html": [
       "<div>\n",
       "<style scoped>\n",
       "    .dataframe tbody tr th:only-of-type {\n",
       "        vertical-align: middle;\n",
       "    }\n",
       "\n",
       "    .dataframe tbody tr th {\n",
       "        vertical-align: top;\n",
       "    }\n",
       "\n",
       "    .dataframe thead th {\n",
       "        text-align: right;\n",
       "    }\n",
       "</style>\n",
       "<table border=\"1\" class=\"dataframe\">\n",
       "  <thead>\n",
       "    <tr style=\"text-align: right;\">\n",
       "      <th></th>\n",
       "      <th>timestamp</th>\n",
       "      <th>Vi(V)</th>\n",
       "      <th>Vo(V)</th>\n",
       "      <th>current(mA)</th>\n",
       "    </tr>\n",
       "  </thead>\n",
       "  <tbody>\n",
       "    <tr>\n",
       "      <th>0</th>\n",
       "      <td>2024-06-25T14:34:53.408</td>\n",
       "      <td>0.743491</td>\n",
       "      <td>0.743491</td>\n",
       "      <td>0.000002</td>\n",
       "    </tr>\n",
       "    <tr>\n",
       "      <th>1</th>\n",
       "      <td>2024-06-25T14:35:03.463</td>\n",
       "      <td>0.743473</td>\n",
       "      <td>0.743473</td>\n",
       "      <td>0.000002</td>\n",
       "    </tr>\n",
       "    <tr>\n",
       "      <th>2</th>\n",
       "      <td>2024-06-25T14:35:13.517</td>\n",
       "      <td>0.743475</td>\n",
       "      <td>0.743474</td>\n",
       "      <td>0.000003</td>\n",
       "    </tr>\n",
       "    <tr>\n",
       "      <th>3</th>\n",
       "      <td>2024-06-25T14:35:23.569</td>\n",
       "      <td>0.743498</td>\n",
       "      <td>0.743498</td>\n",
       "      <td>0.000002</td>\n",
       "    </tr>\n",
       "    <tr>\n",
       "      <th>4</th>\n",
       "      <td>2024-06-25T14:35:33.622</td>\n",
       "      <td>0.743518</td>\n",
       "      <td>0.743517</td>\n",
       "      <td>0.000003</td>\n",
       "    </tr>\n",
       "  </tbody>\n",
       "</table>\n",
       "</div>"
      ],
      "text/plain": [
       "                 timestamp     Vi(V)     Vo(V)  current(mA)\n",
       "0  2024-06-25T14:34:53.408  0.743491  0.743491     0.000002\n",
       "1  2024-06-25T14:35:03.463  0.743473  0.743473     0.000002\n",
       "2  2024-06-25T14:35:13.517  0.743475  0.743474     0.000003\n",
       "3  2024-06-25T14:35:23.569  0.743498  0.743498     0.000002\n",
       "4  2024-06-25T14:35:33.622  0.743518  0.743517     0.000003"
      ]
     },
     "execution_count": 94,
     "metadata": {},
     "output_type": "execute_result"
    }
   ],
   "source": [
    "dataList_d[1].head()"
   ]
  },
  {
   "cell_type": "code",
   "execution_count": 15,
   "id": "65fdb5f2",
   "metadata": {},
   "outputs": [
    {
     "data": {
      "text/plain": [
       "RangeIndex(start=0, stop=8572, step=1)"
      ]
     },
     "execution_count": 15,
     "metadata": {},
     "output_type": "execute_result"
    }
   ],
   "source": [
    "com4_data.index"
   ]
  },
  {
   "cell_type": "code",
   "execution_count": 16,
   "id": "88c3ace1",
   "metadata": {},
   "outputs": [
    {
     "name": "stdout",
     "output_type": "stream",
     "text": [
      " start：2024-06-25T14:34:53.408 \n",
      " end: 2024-06-26T14:31:11.697 \n"
     ]
    }
   ],
   "source": [
    "describe_d(com4_data[\"timestamp\"])"
   ]
  },
  {
   "cell_type": "markdown",
   "id": "02a3eec7",
   "metadata": {},
   "source": [
    "### 1.3.3 com5数据"
   ]
  },
  {
   "cell_type": "code",
   "execution_count": 93,
   "id": "cd414325",
   "metadata": {},
   "outputs": [
    {
     "data": {
      "text/html": [
       "<div>\n",
       "<style scoped>\n",
       "    .dataframe tbody tr th:only-of-type {\n",
       "        vertical-align: middle;\n",
       "    }\n",
       "\n",
       "    .dataframe tbody tr th {\n",
       "        vertical-align: top;\n",
       "    }\n",
       "\n",
       "    .dataframe thead th {\n",
       "        text-align: right;\n",
       "    }\n",
       "</style>\n",
       "<table border=\"1\" class=\"dataframe\">\n",
       "  <thead>\n",
       "    <tr style=\"text-align: right;\">\n",
       "      <th></th>\n",
       "      <th>timestamp</th>\n",
       "      <th>Vi(V)</th>\n",
       "      <th>Vo(V)</th>\n",
       "      <th>current(mA)</th>\n",
       "    </tr>\n",
       "  </thead>\n",
       "  <tbody>\n",
       "    <tr>\n",
       "      <th>0</th>\n",
       "      <td>2024-06-25T14:34:53.408</td>\n",
       "      <td>0.743491</td>\n",
       "      <td>0.743491</td>\n",
       "      <td>0.000002</td>\n",
       "    </tr>\n",
       "    <tr>\n",
       "      <th>1</th>\n",
       "      <td>2024-06-25T14:35:03.463</td>\n",
       "      <td>0.743473</td>\n",
       "      <td>0.743473</td>\n",
       "      <td>0.000002</td>\n",
       "    </tr>\n",
       "    <tr>\n",
       "      <th>2</th>\n",
       "      <td>2024-06-25T14:35:13.517</td>\n",
       "      <td>0.743475</td>\n",
       "      <td>0.743474</td>\n",
       "      <td>0.000003</td>\n",
       "    </tr>\n",
       "    <tr>\n",
       "      <th>3</th>\n",
       "      <td>2024-06-25T14:35:23.569</td>\n",
       "      <td>0.743498</td>\n",
       "      <td>0.743498</td>\n",
       "      <td>0.000002</td>\n",
       "    </tr>\n",
       "    <tr>\n",
       "      <th>4</th>\n",
       "      <td>2024-06-25T14:35:33.622</td>\n",
       "      <td>0.743518</td>\n",
       "      <td>0.743517</td>\n",
       "      <td>0.000003</td>\n",
       "    </tr>\n",
       "  </tbody>\n",
       "</table>\n",
       "</div>"
      ],
      "text/plain": [
       "                 timestamp     Vi(V)     Vo(V)  current(mA)\n",
       "0  2024-06-25T14:34:53.408  0.743491  0.743491     0.000002\n",
       "1  2024-06-25T14:35:03.463  0.743473  0.743473     0.000002\n",
       "2  2024-06-25T14:35:13.517  0.743475  0.743474     0.000003\n",
       "3  2024-06-25T14:35:23.569  0.743498  0.743498     0.000002\n",
       "4  2024-06-25T14:35:33.622  0.743518  0.743517     0.000003"
      ]
     },
     "execution_count": 93,
     "metadata": {},
     "output_type": "execute_result"
    }
   ],
   "source": [
    "dataList_d[2].head()"
   ]
  },
  {
   "cell_type": "code",
   "execution_count": 75,
   "id": "5d2aa3b2",
   "metadata": {},
   "outputs": [
    {
     "data": {
      "text/plain": [
       "RangeIndex(start=0, stop=8572, step=1)"
      ]
     },
     "execution_count": 75,
     "metadata": {},
     "output_type": "execute_result"
    }
   ],
   "source": [
    "com5_data.index"
   ]
  },
  {
   "cell_type": "code",
   "execution_count": 76,
   "id": "a0717d02",
   "metadata": {},
   "outputs": [
    {
     "name": "stdout",
     "output_type": "stream",
     "text": [
      " start：2024-06-25T14:34:53.408 \n",
      " end: 2024-06-26T14:31:11.697 \n"
     ]
    }
   ],
   "source": [
    "describe_d(com4_data[\"timestamp\"])"
   ]
  },
  {
   "cell_type": "markdown",
   "id": "56f582ca",
   "metadata": {},
   "source": [
    "# 二、处理数据"
   ]
  },
  {
   "cell_type": "markdown",
   "id": "6bbff85d",
   "metadata": {},
   "source": [
    "## 2.1 处理时间戳"
   ]
  },
  {
   "cell_type": "code",
   "execution_count": 92,
   "id": "65d54715",
   "metadata": {},
   "outputs": [
    {
     "name": "stdout",
     "output_type": "stream",
     "text": [
      "原始DataFrame:\n",
      "                    timestamp     Vi(V)     Vo(V)  current(mA)\n",
      "0     2024-06-25T14:37:22.917  0.604235  0.604235            0\n",
      "1     2024-06-25T14:38:22.977  0.603542  0.603542            0\n",
      "2     2024-06-25T14:39:23.052  0.603471  0.603471            0\n",
      "3     2024-06-25T14:40:23.126  0.603469  0.603469            0\n",
      "4     2024-06-25T14:41:23.191  0.603478  0.603478            0\n",
      "...                       ...       ...       ...          ...\n",
      "1428  2024-06-26T14:26:55.705  0.590191  0.590191            0\n",
      "1429  2024-06-26T14:27:55.755  0.590386  0.590386            0\n",
      "1430  2024-06-26T14:28:55.812  0.590432  0.590432            0\n",
      "1431  2024-06-26T14:29:55.868  0.590471  0.590471            0\n",
      "1432  2024-06-26T14:30:55.930  0.590512  0.590512            0\n",
      "\n",
      "[1433 rows x 4 columns]\n",
      "\n",
      "修改后的DataFrame:\n",
      "                    timestamp     Vi(V)     Vo(V)  current(mA)\n",
      "0     2024-06-25 14:37:22.917  0.604235  0.604235            0\n",
      "1     2024-06-25 14:38:22.977  0.603542  0.603542            0\n",
      "2     2024-06-25 14:39:23.052  0.603471  0.603471            0\n",
      "3     2024-06-25 14:40:23.126  0.603469  0.603469            0\n",
      "4     2024-06-25 14:41:23.191  0.603478  0.603478            0\n",
      "...                       ...       ...       ...          ...\n",
      "1428  2024-06-26 14:26:55.705  0.590191  0.590191            0\n",
      "1429  2024-06-26 14:27:55.755  0.590386  0.590386            0\n",
      "1430  2024-06-26 14:28:55.812  0.590432  0.590432            0\n",
      "1431  2024-06-26 14:29:55.868  0.590471  0.590471            0\n",
      "1432  2024-06-26 14:30:55.930  0.590512  0.590512            0\n",
      "\n",
      "[1433 rows x 4 columns]\n"
     ]
    }
   ],
   "source": [
    "# 将“T”去掉换成空行\n",
    "'''\n",
    "程序名称：convertTimestamp\n",
    "需求：将传入的DataFrame对象的“timestamp”列的值中的“T\"改为空格\n",
    "示例：例如“2024-06-25T14:37:22.917”改为“2024-06-25 14:37:22.917”\n",
    "入参：DataFrame对象，里面包含列名“timestamp”\n",
    "Return：返回一个新的DataFrame对象（不改动原有的DataFrame对象）\n",
    "'''\n",
    "\n",
    "def convertTimestamp(df):\n",
    "    \"\"\"\n",
    "    将传入的DataFrame对象的“timestamp”列的值中的“T\"改为空格。\n",
    "    \n",
    "    参数:\n",
    "        df (pd.DataFrame): 包含“timestamp”列的DataFrame对象。\n",
    "    \n",
    "    返回:\n",
    "        pd.DataFrame: 修改后的新的DataFrame对象。\n",
    "    \"\"\"\n",
    "    # 创建DataFrame的副本以避免修改原有的DataFrame对象\n",
    "    new_df = df.copy()\n",
    "    # 将“timestamp”列中的\"T\"替换为空格\n",
    "    new_df['timestamp'] = new_df['timestamp'].str.replace('T', ' ')\n",
    "    return new_df\n",
    "\n",
    "# 示例\n",
    "# data = {'timestamp': ['2024-06-25T14:37:22.917', '2024-06-26T15:48:33.918']}\n",
    "df = com3_data\n",
    "print(\"原始DataFrame:\")\n",
    "print(df)\n",
    "\n",
    "# 调用函数\n",
    "new_df = convertTimestamp(df)\n",
    "print(\"\\n修改后的DataFrame:\")\n",
    "print(new_df)\n"
   ]
  },
  {
   "cell_type": "markdown",
   "id": "aaa49a70",
   "metadata": {},
   "source": [
    "## 2.2 求数据的均值"
   ]
  },
  {
   "cell_type": "code",
   "execution_count": null,
   "id": "baf37e6c",
   "metadata": {},
   "outputs": [],
   "source": [
    "# 根据valueStyle获取不同时间跨度的数据\n",
    "'''Prompt\n",
    "### 背景 ### \n",
    "使用python的pandas库进行数据处理\n",
    "\n",
    "### 要求 ###\n",
    "开发一个函数，要求如下：\n",
    "1. 函数名：gainMeanValue\n",
    "2. 入参：DataFrame对象，对象说明如下\n",
    "\t1）里面有列\"timestamp\"用于记录时间戳，记录的数据样式如\"2024-06-25T14:37:22.917\"\n",
    "\t2）里面有列\"Vi(V)\"用于记录电压数值，记录的样式如\"0.604235\"\n",
    "3. 功能：\n",
    "    1) 处理\"timestamp\"列的数据，处理示例：将“2024-06-25T14:37:22.917”处理为“0625 14:37:22.917”\n",
    "    2) 按秒采样得到均值：计算每秒的电压均值，例如将“2024-06-26 14:26:55.705”、“2024-06-26 14:27:55.755”、“2024-06-26 14:28:55.812”的电压数据“0.590191”、”0.590386\"、\"0.590432\"计算均值，并放置到一个新的DataFrame对象下，此时对应的时间戳是2024-06-26 14:26:55\n",
    "    2）处理所得到的新的dataframe的数据，将空值丢弃掉：将里面的“Vi(V)”为“NaN”的行丢弃掉，最后再返回这个处理完后的变量\n",
    "4. return：返回处理好的新的DataFrame对象\n",
    "\n",
    "### 测试 ###\n",
    "测试使用的变量名均需要待一个尾缀“_test\"\n",
    "\n",
    "'''"
   ]
  },
  {
   "cell_type": "code",
   "execution_count": 36,
   "id": "a940fce2",
   "metadata": {
    "scrolled": false
   },
   "outputs": [
    {
     "name": "stdout",
     "output_type": "stream",
     "text": [
      "            timestamp     Vi(V)\n",
      "0 2024-06-26 14:26:55  0.590336\n",
      "1 2024-06-26 14:27:55  0.604335\n"
     ]
    }
   ],
   "source": [
    "\n",
    "\n",
    "\n",
    "import pandas as pd\n",
    "\n",
    "def gainMeanValue(df):\n",
    "    \"\"\"\n",
    "    计算每秒的电压均值，并返回处理好的新的DataFrame对象。\n",
    "    \n",
    "    参数:\n",
    "        df (pd.DataFrame): 包含\"timestamp\"和\"Vi(V)\"列的DataFrame对象。\n",
    "        \n",
    "    返回:\n",
    "        pd.DataFrame: 处理好的新的DataFrame对象，包含每秒的电压均值和对应的时间戳。\n",
    "    \"\"\"\n",
    "    # 将\"timestamp\"列的'T'替换为空格并转换为datetime对象\n",
    "    df['timestamp'] = pd.to_datetime(df['timestamp'].str.replace('T', ' '))\n",
    "    \n",
    "    # 设置\"timestamp\"列为索引\n",
    "    df.set_index('timestamp', inplace=True)\n",
    "    \n",
    "    # 重新采样数据，按秒计算电压均值\n",
    "    result = df.resample('S').mean()\n",
    "    \n",
    "    # 丢弃“Vi(V)”为NaN的行\n",
    "    result.dropna(subset=['Vi(V)'], inplace=True)\n",
    "    \n",
    "    # 重置索引\n",
    "    result.reset_index(inplace=True)\n",
    "    \n",
    "    return result\n",
    "\n",
    "# 示例数据\n",
    "data = {\n",
    "    'timestamp': [\n",
    "        '2024-06-26T14:26:55.705', '2024-06-26T14:26:55.755', '2024-06-26T14:26:55.812',\n",
    "        '2024-06-26T14:27:55.705', '2024-06-26T14:27:55.755', '2024-06-26T14:27:55.812'\n",
    "    ],\n",
    "    'Vi(V)': [\n",
    "        0.590191, 0.590386, 0.590432,\n",
    "        0.604235, 0.604335, 0.604435\n",
    "    ]\n",
    "}\n",
    "df = pd.DataFrame(data)\n",
    "\n",
    "# 调用函数\n",
    "new_df = gainMeanValue(df)\n",
    "print(new_df)\n",
    "\n"
   ]
  },
  {
   "cell_type": "code",
   "execution_count": 13,
   "id": "d6c9716d",
   "metadata": {},
   "outputs": [
    {
     "data": {
      "text/html": [
       "<div>\n",
       "<style scoped>\n",
       "    .dataframe tbody tr th:only-of-type {\n",
       "        vertical-align: middle;\n",
       "    }\n",
       "\n",
       "    .dataframe tbody tr th {\n",
       "        vertical-align: top;\n",
       "    }\n",
       "\n",
       "    .dataframe thead th {\n",
       "        text-align: right;\n",
       "    }\n",
       "</style>\n",
       "<table border=\"1\" class=\"dataframe\">\n",
       "  <thead>\n",
       "    <tr style=\"text-align: right;\">\n",
       "      <th></th>\n",
       "      <th>timestamp</th>\n",
       "      <th>Vi(V)</th>\n",
       "      <th>Vo(V)</th>\n",
       "      <th>current(mA)</th>\n",
       "    </tr>\n",
       "  </thead>\n",
       "  <tbody>\n",
       "    <tr>\n",
       "      <th>0</th>\n",
       "      <td>2024-06-25T14:37:22.917</td>\n",
       "      <td>0.604235</td>\n",
       "      <td>0.604235</td>\n",
       "      <td>0</td>\n",
       "    </tr>\n",
       "    <tr>\n",
       "      <th>1</th>\n",
       "      <td>2024-06-25T14:38:22.977</td>\n",
       "      <td>0.603542</td>\n",
       "      <td>0.603542</td>\n",
       "      <td>0</td>\n",
       "    </tr>\n",
       "    <tr>\n",
       "      <th>2</th>\n",
       "      <td>2024-06-25T14:39:23.052</td>\n",
       "      <td>0.603471</td>\n",
       "      <td>0.603471</td>\n",
       "      <td>0</td>\n",
       "    </tr>\n",
       "    <tr>\n",
       "      <th>3</th>\n",
       "      <td>2024-06-25T14:40:23.126</td>\n",
       "      <td>0.603469</td>\n",
       "      <td>0.603469</td>\n",
       "      <td>0</td>\n",
       "    </tr>\n",
       "    <tr>\n",
       "      <th>4</th>\n",
       "      <td>2024-06-25T14:41:23.191</td>\n",
       "      <td>0.603478</td>\n",
       "      <td>0.603478</td>\n",
       "      <td>0</td>\n",
       "    </tr>\n",
       "  </tbody>\n",
       "</table>\n",
       "</div>"
      ],
      "text/plain": [
       "                 timestamp     Vi(V)     Vo(V)  current(mA)\n",
       "0  2024-06-25T14:37:22.917  0.604235  0.604235            0\n",
       "1  2024-06-25T14:38:22.977  0.603542  0.603542            0\n",
       "2  2024-06-25T14:39:23.052  0.603471  0.603471            0\n",
       "3  2024-06-25T14:40:23.126  0.603469  0.603469            0\n",
       "4  2024-06-25T14:41:23.191  0.603478  0.603478            0"
      ]
     },
     "execution_count": 13,
     "metadata": {},
     "output_type": "execute_result"
    }
   ],
   "source": [
    "com3_data.head()"
   ]
  },
  {
   "cell_type": "code",
   "execution_count": 14,
   "id": "e074ebe0",
   "metadata": {
    "scrolled": true
   },
   "outputs": [],
   "source": [
    "com3_handle_d1=gainMeanValue(com3_data)"
   ]
  },
  {
   "cell_type": "code",
   "execution_count": 16,
   "id": "ecd307ac",
   "metadata": {},
   "outputs": [
    {
     "data": {
      "text/html": [
       "<div>\n",
       "<style scoped>\n",
       "    .dataframe tbody tr th:only-of-type {\n",
       "        vertical-align: middle;\n",
       "    }\n",
       "\n",
       "    .dataframe tbody tr th {\n",
       "        vertical-align: top;\n",
       "    }\n",
       "\n",
       "    .dataframe thead th {\n",
       "        text-align: right;\n",
       "    }\n",
       "</style>\n",
       "<table border=\"1\" class=\"dataframe\">\n",
       "  <thead>\n",
       "    <tr style=\"text-align: right;\">\n",
       "      <th></th>\n",
       "      <th>timestamp</th>\n",
       "      <th>Vi(V)</th>\n",
       "      <th>Vo(V)</th>\n",
       "      <th>current(mA)</th>\n",
       "    </tr>\n",
       "  </thead>\n",
       "  <tbody>\n",
       "    <tr>\n",
       "      <th>0</th>\n",
       "      <td>2024-06-25 14:37:22</td>\n",
       "      <td>0.604235</td>\n",
       "      <td>0.604235</td>\n",
       "      <td>0.0</td>\n",
       "    </tr>\n",
       "    <tr>\n",
       "      <th>1</th>\n",
       "      <td>2024-06-25 14:38:22</td>\n",
       "      <td>0.603542</td>\n",
       "      <td>0.603542</td>\n",
       "      <td>0.0</td>\n",
       "    </tr>\n",
       "    <tr>\n",
       "      <th>2</th>\n",
       "      <td>2024-06-25 14:39:23</td>\n",
       "      <td>0.603471</td>\n",
       "      <td>0.603471</td>\n",
       "      <td>0.0</td>\n",
       "    </tr>\n",
       "    <tr>\n",
       "      <th>3</th>\n",
       "      <td>2024-06-25 14:40:23</td>\n",
       "      <td>0.603469</td>\n",
       "      <td>0.603469</td>\n",
       "      <td>0.0</td>\n",
       "    </tr>\n",
       "    <tr>\n",
       "      <th>4</th>\n",
       "      <td>2024-06-25 14:41:23</td>\n",
       "      <td>0.603478</td>\n",
       "      <td>0.603478</td>\n",
       "      <td>0.0</td>\n",
       "    </tr>\n",
       "  </tbody>\n",
       "</table>\n",
       "</div>"
      ],
      "text/plain": [
       "            timestamp     Vi(V)     Vo(V)  current(mA)\n",
       "0 2024-06-25 14:37:22  0.604235  0.604235          0.0\n",
       "1 2024-06-25 14:38:22  0.603542  0.603542          0.0\n",
       "2 2024-06-25 14:39:23  0.603471  0.603471          0.0\n",
       "3 2024-06-25 14:40:23  0.603469  0.603469          0.0\n",
       "4 2024-06-25 14:41:23  0.603478  0.603478          0.0"
      ]
     },
     "execution_count": 16,
     "metadata": {},
     "output_type": "execute_result"
    }
   ],
   "source": [
    "com3_handle_d1.head()"
   ]
  },
  {
   "cell_type": "markdown",
   "id": "df6dff36",
   "metadata": {},
   "source": [
    "## 2.3 整合函数：按分钟采集数据"
   ]
  },
  {
   "cell_type": "markdown",
   "id": "d62d3df3",
   "metadata": {},
   "source": [
    "### 1) 按分钟采集"
   ]
  },
  {
   "cell_type": "markdown",
   "id": "e12e586a",
   "metadata": {},
   "source": [
    "【背景】\n",
    "使用python的pandas库进行函数的设计\n",
    "\n",
    "---\n",
    "\n",
    "【函数设计】\n",
    "1. 函数名：gainMeanValue\n",
    "2. 函数入参：\n",
    "    1）dataFrame_d：dataframe对象，里面包含数据列“timestamp”和“Vi(V)”，分别代表“时间戳”和“电压数值”\n",
    "\n",
    "3. 函数功能：\n",
    "    1）处理“timestamp”\n",
    "    - 功能描述：将“timestamp”列的数据里面的“T”替换为空格“ ”\n",
    "    - 示例：“2024-06-25T14:37:22.917”处理为\"2024-06-25 14:37:22.917\"\n",
    "    2）按分钟进行重新采样，取均值，输出为一个新的dataframe对象（变量命名为 new_df_d）：\n",
    "    - 功能描述：将当前的数据按照分钟数来采样整合，对应的“Vi(V)”则是整合的数值对应的电压的均值\n",
    "    - 例如将timestamp为“2024-06-26 14:26:55.705”、“2024-06-26 14:26:56.755”都整合到“2024-06-26 14:26”下，电压数据“0.590191”、”0.590386\"则取均值\n",
    "    3）去掉空值的数据：\n",
    "    - 功能描述：将上面输出的新的dataframe对象（变量名为 new_df_d）中的“Vi(V)”为“NaN”的行删除掉\n",
    "    \n",
    "4. 函数Return：\n",
    "    1）返回上述处理完后的新的dataframe对象   \n",
    "    \n",
    "---\n",
    "\n",
    "【测试】\n",
    "变量名规范: 测试使用的变量名均需要待一个尾缀“_test\""
   ]
  },
  {
   "cell_type": "code",
   "execution_count": 16,
   "id": "6a1c43d7",
   "metadata": {},
   "outputs": [
    {
     "name": "stdout",
     "output_type": "stream",
     "text": [
      "            timestamp     Vi(V)\n",
      "0 2024-06-25 14:37:00  0.604336\n",
      "1 2024-06-25 14:38:00  0.590336\n"
     ]
    }
   ],
   "source": [
    "import pandas as pd\n",
    "\n",
    "def gainMeanValue(dataFrame_d):\n",
    "    \"\"\"\n",
    "    处理DataFrame对象，按分钟重新采样电压均值，并丢弃空值行后返回处理好的新的DataFrame对象。\n",
    "    \n",
    "    参数:\n",
    "        dataFrame_d (pd.DataFrame): 包含\"timestamp\"和\"Vi(V)\"列的DataFrame对象。\n",
    "        \n",
    "    返回:\n",
    "        pd.DataFrame: 处理好的新的DataFrame对象，包含每分钟的电压均值和对应的时间戳。\n",
    "    \"\"\"\n",
    "    # 替换\"timestamp\"列的数据，将\"T\"替换为空格\n",
    "    dataFrame_d['timestamp'] = dataFrame_d['timestamp'].str.replace('T', ' ')\n",
    "    \n",
    "    # 将\"timestamp\"列转换为datetime对象\n",
    "    dataFrame_d['timestamp'] = pd.to_datetime(dataFrame_d['timestamp'])\n",
    "    \n",
    "    # 设置\"timestamp\"列为索引\n",
    "    dataFrame_d.set_index('timestamp', inplace=True)\n",
    "    \n",
    "    # 按分钟重新采样数据，计算电压均值\n",
    "    new_df_d = dataFrame_d.resample('T').mean()\n",
    "    \n",
    "    # 丢弃“Vi(V)”为NaN的行\n",
    "    new_df_d.dropna(subset=['Vi(V)'], inplace=True)\n",
    "    \n",
    "    # 重置索引\n",
    "    new_df_d.reset_index(inplace=True)\n",
    "    \n",
    "    return new_df_d\n",
    "\n",
    "# 测试数据\n",
    "data_test = {\n",
    "    'timestamp': [\n",
    "        '2024-06-25T14:37:22.917', '2024-06-25T14:37:23.917', '2024-06-25T14:37:24.917',\n",
    "        '2024-06-25T14:38:25.917', '2024-06-25T14:38:26.917', '2024-06-25T14:38:27.917'\n",
    "    ],\n",
    "    'Vi(V)': [\n",
    "        0.604235, 0.604336, 0.604437,\n",
    "        0.590191, 0.590386, 0.590432\n",
    "    ]\n",
    "}\n",
    "df_test = pd.DataFrame(data_test)\n",
    "\n",
    "# 调用函数进行处理\n",
    "result_test = gainMeanValue(df_test)\n",
    "\n",
    "# 打印处理后的结果\n",
    "print(result_test)\n"
   ]
  },
  {
   "cell_type": "code",
   "execution_count": 52,
   "id": "7f8b6e67",
   "metadata": {},
   "outputs": [],
   "source": [
    "t_com3=gainMeanValue(com3_data)"
   ]
  },
  {
   "cell_type": "code",
   "execution_count": 53,
   "id": "0a4436ac",
   "metadata": {},
   "outputs": [
    {
     "data": {
      "text/html": [
       "<div>\n",
       "<style scoped>\n",
       "    .dataframe tbody tr th:only-of-type {\n",
       "        vertical-align: middle;\n",
       "    }\n",
       "\n",
       "    .dataframe tbody tr th {\n",
       "        vertical-align: top;\n",
       "    }\n",
       "\n",
       "    .dataframe thead th {\n",
       "        text-align: right;\n",
       "    }\n",
       "</style>\n",
       "<table border=\"1\" class=\"dataframe\">\n",
       "  <thead>\n",
       "    <tr style=\"text-align: right;\">\n",
       "      <th></th>\n",
       "      <th>timestamp</th>\n",
       "      <th>Vi(V)</th>\n",
       "      <th>Vo(V)</th>\n",
       "      <th>current(mA)</th>\n",
       "    </tr>\n",
       "  </thead>\n",
       "  <tbody>\n",
       "    <tr>\n",
       "      <th>0</th>\n",
       "      <td>2024-06-25 14:37:00</td>\n",
       "      <td>0.604235</td>\n",
       "      <td>0.604235</td>\n",
       "      <td>0.0</td>\n",
       "    </tr>\n",
       "    <tr>\n",
       "      <th>1</th>\n",
       "      <td>2024-06-25 14:38:00</td>\n",
       "      <td>0.603542</td>\n",
       "      <td>0.603542</td>\n",
       "      <td>0.0</td>\n",
       "    </tr>\n",
       "    <tr>\n",
       "      <th>2</th>\n",
       "      <td>2024-06-25 14:39:00</td>\n",
       "      <td>0.603471</td>\n",
       "      <td>0.603471</td>\n",
       "      <td>0.0</td>\n",
       "    </tr>\n",
       "    <tr>\n",
       "      <th>3</th>\n",
       "      <td>2024-06-25 14:40:00</td>\n",
       "      <td>0.603469</td>\n",
       "      <td>0.603469</td>\n",
       "      <td>0.0</td>\n",
       "    </tr>\n",
       "    <tr>\n",
       "      <th>4</th>\n",
       "      <td>2024-06-25 14:41:00</td>\n",
       "      <td>0.603478</td>\n",
       "      <td>0.603478</td>\n",
       "      <td>0.0</td>\n",
       "    </tr>\n",
       "  </tbody>\n",
       "</table>\n",
       "</div>"
      ],
      "text/plain": [
       "            timestamp     Vi(V)     Vo(V)  current(mA)\n",
       "0 2024-06-25 14:37:00  0.604235  0.604235          0.0\n",
       "1 2024-06-25 14:38:00  0.603542  0.603542          0.0\n",
       "2 2024-06-25 14:39:00  0.603471  0.603471          0.0\n",
       "3 2024-06-25 14:40:00  0.603469  0.603469          0.0\n",
       "4 2024-06-25 14:41:00  0.603478  0.603478          0.0"
      ]
     },
     "execution_count": 53,
     "metadata": {},
     "output_type": "execute_result"
    }
   ],
   "source": [
    "t_com3.head()"
   ]
  },
  {
   "cell_type": "code",
   "execution_count": null,
   "id": "a71e6110",
   "metadata": {},
   "outputs": [],
   "source": []
  },
  {
   "cell_type": "markdown",
   "id": "13536e82",
   "metadata": {},
   "source": [
    "### 2) 处理timestamp名字：缩短"
   ]
  },
  {
   "cell_type": "markdown",
   "id": "bb6a54aa",
   "metadata": {},
   "source": [
    "【背景】\n",
    "使用python的pandas库进行函数的设计\n",
    "\n",
    "---\n",
    "\n",
    "【函数设计】\n",
    "1. 函数名：changeTimestamp\n",
    "2. 函数入参：\n",
    "    1）dataFrame_d：dataframe对象，里面包含数据列“timestamp”和“Vi(V)”，分别代表“时间戳”和“电压数值”\n",
    "\n",
    "3. 函数功能：\n",
    "    1）判断”timestamp\" 是否为string类型：如果不是，则修改为string类型\n",
    "    2）处理“timestamp”\n",
    "    - 功能描述：将“timestamp”列的数据里面的年份数\"2024-\"和秒数去掉，并调整格式\n",
    "    - 示例：“2024-06-25 14:37:00”处理为\"0625_14:37\"\n",
    "    \n",
    "4. 函数Return：\n",
    "    1）返回上述处理完后的新的dataframe对象   \n",
    "    \n",
    "---\n",
    "\n",
    "【测试】\n",
    "变量名规范: 测试使用的变量名均需要待一个尾缀“_test\""
   ]
  },
  {
   "cell_type": "code",
   "execution_count": 18,
   "id": "81f20710",
   "metadata": {},
   "outputs": [
    {
     "name": "stdout",
     "output_type": "stream",
     "text": [
      "    timestamp     Vi(V)\n",
      "0  0625_14:37  0.604235\n",
      "1  0625_14:37  0.604336\n",
      "2  0625_14:37  0.604437\n",
      "3  0625_14:38  0.590191\n",
      "4  0625_14:38  0.590386\n",
      "5  0625_14:38  0.590432\n"
     ]
    }
   ],
   "source": [
    "import pandas as pd\n",
    "\n",
    "def changeTimestamp(dataFrame_d):\n",
    "    \"\"\"\n",
    "    处理DataFrame对象，将\"timestamp\"列的年份和秒数去掉，并调整格式。\n",
    "    \n",
    "    参数:\n",
    "        dataFrame_d (pd.DataFrame): 包含\"timestamp\"和\"Vi(V)\"列的DataFrame对象。\n",
    "        \n",
    "    返回:\n",
    "        pd.DataFrame: 处理好的新的DataFrame对象，\"timestamp\"列格式为\"MMDD_HH:MM\"。\n",
    "    \"\"\"\n",
    "    # 判断“timestamp”列是否为字符串类型，如果不是，则修改为字符串类型\n",
    "    if not pd.api.types.is_string_dtype(dataFrame_d['timestamp']):\n",
    "        dataFrame_d['timestamp'] = dataFrame_d['timestamp'].astype(str)\n",
    "    \n",
    "    # 替换“timestamp”列的数据，将年份和秒数去掉，并调整格式\n",
    "    dataFrame_d['timestamp'] = dataFrame_d['timestamp'].str.replace(r'(\\d{4})-(\\d{2})-(\\d{2}) (\\d{2}:\\d{2}):\\d{2}', r'\\2\\3_\\4', regex=True)\n",
    "    \n",
    "    # 返回处理好的DataFrame对象\n",
    "    return dataFrame_d\n",
    "\n",
    "# 测试数据\n",
    "data_test = {\n",
    "    'timestamp': [\n",
    "        '2024-06-25 14:37:00', '2024-06-25 14:37:01', '2024-06-25 14:37:02',\n",
    "        '2024-06-25 14:38:03', '2024-06-25 14:38:04', '2024-06-25 14:38:05'\n",
    "    ],\n",
    "    'Vi(V)': [\n",
    "        0.604235, 0.604336, 0.604437,\n",
    "        0.590191, 0.590386, 0.590432\n",
    "    ]\n",
    "}\n",
    "df_test = pd.DataFrame(data_test)\n",
    "\n",
    "# 调用函数进行处理\n",
    "result_test = changeTimestamp(df_test)\n",
    "\n",
    "# 打印处理后的结果\n",
    "print(result_test)\n"
   ]
  },
  {
   "cell_type": "code",
   "execution_count": 59,
   "id": "06f44058",
   "metadata": {
    "scrolled": true
   },
   "outputs": [
    {
     "data": {
      "text/html": [
       "<div>\n",
       "<style scoped>\n",
       "    .dataframe tbody tr th:only-of-type {\n",
       "        vertical-align: middle;\n",
       "    }\n",
       "\n",
       "    .dataframe tbody tr th {\n",
       "        vertical-align: top;\n",
       "    }\n",
       "\n",
       "    .dataframe thead th {\n",
       "        text-align: right;\n",
       "    }\n",
       "</style>\n",
       "<table border=\"1\" class=\"dataframe\">\n",
       "  <thead>\n",
       "    <tr style=\"text-align: right;\">\n",
       "      <th></th>\n",
       "      <th>timestamp</th>\n",
       "      <th>Vi(V)</th>\n",
       "      <th>Vo(V)</th>\n",
       "      <th>current(mA)</th>\n",
       "    </tr>\n",
       "  </thead>\n",
       "  <tbody>\n",
       "    <tr>\n",
       "      <th>0</th>\n",
       "      <td>2024-06-25 14:37:00</td>\n",
       "      <td>0.604235</td>\n",
       "      <td>0.604235</td>\n",
       "      <td>0.0</td>\n",
       "    </tr>\n",
       "    <tr>\n",
       "      <th>1</th>\n",
       "      <td>2024-06-25 14:38:00</td>\n",
       "      <td>0.603542</td>\n",
       "      <td>0.603542</td>\n",
       "      <td>0.0</td>\n",
       "    </tr>\n",
       "    <tr>\n",
       "      <th>2</th>\n",
       "      <td>2024-06-25 14:39:00</td>\n",
       "      <td>0.603471</td>\n",
       "      <td>0.603471</td>\n",
       "      <td>0.0</td>\n",
       "    </tr>\n",
       "    <tr>\n",
       "      <th>3</th>\n",
       "      <td>2024-06-25 14:40:00</td>\n",
       "      <td>0.603469</td>\n",
       "      <td>0.603469</td>\n",
       "      <td>0.0</td>\n",
       "    </tr>\n",
       "    <tr>\n",
       "      <th>4</th>\n",
       "      <td>2024-06-25 14:41:00</td>\n",
       "      <td>0.603478</td>\n",
       "      <td>0.603478</td>\n",
       "      <td>0.0</td>\n",
       "    </tr>\n",
       "  </tbody>\n",
       "</table>\n",
       "</div>"
      ],
      "text/plain": [
       "            timestamp     Vi(V)     Vo(V)  current(mA)\n",
       "0 2024-06-25 14:37:00  0.604235  0.604235          0.0\n",
       "1 2024-06-25 14:38:00  0.603542  0.603542          0.0\n",
       "2 2024-06-25 14:39:00  0.603471  0.603471          0.0\n",
       "3 2024-06-25 14:40:00  0.603469  0.603469          0.0\n",
       "4 2024-06-25 14:41:00  0.603478  0.603478          0.0"
      ]
     },
     "execution_count": 59,
     "metadata": {},
     "output_type": "execute_result"
    }
   ],
   "source": [
    "t_com3.head()"
   ]
  },
  {
   "cell_type": "code",
   "execution_count": 60,
   "id": "850e4df8",
   "metadata": {
    "scrolled": true
   },
   "outputs": [],
   "source": [
    "t2_com3 = changeTimestamp(t_com3)"
   ]
  },
  {
   "cell_type": "code",
   "execution_count": 62,
   "id": "1ec7e38b",
   "metadata": {},
   "outputs": [
    {
     "data": {
      "text/html": [
       "<div>\n",
       "<style scoped>\n",
       "    .dataframe tbody tr th:only-of-type {\n",
       "        vertical-align: middle;\n",
       "    }\n",
       "\n",
       "    .dataframe tbody tr th {\n",
       "        vertical-align: top;\n",
       "    }\n",
       "\n",
       "    .dataframe thead th {\n",
       "        text-align: right;\n",
       "    }\n",
       "</style>\n",
       "<table border=\"1\" class=\"dataframe\">\n",
       "  <thead>\n",
       "    <tr style=\"text-align: right;\">\n",
       "      <th></th>\n",
       "      <th>timestamp</th>\n",
       "      <th>Vi(V)</th>\n",
       "      <th>Vo(V)</th>\n",
       "      <th>current(mA)</th>\n",
       "    </tr>\n",
       "  </thead>\n",
       "  <tbody>\n",
       "    <tr>\n",
       "      <th>0</th>\n",
       "      <td>0625_14:37</td>\n",
       "      <td>0.604235</td>\n",
       "      <td>0.604235</td>\n",
       "      <td>0.0</td>\n",
       "    </tr>\n",
       "    <tr>\n",
       "      <th>1</th>\n",
       "      <td>0625_14:38</td>\n",
       "      <td>0.603542</td>\n",
       "      <td>0.603542</td>\n",
       "      <td>0.0</td>\n",
       "    </tr>\n",
       "    <tr>\n",
       "      <th>2</th>\n",
       "      <td>0625_14:39</td>\n",
       "      <td>0.603471</td>\n",
       "      <td>0.603471</td>\n",
       "      <td>0.0</td>\n",
       "    </tr>\n",
       "    <tr>\n",
       "      <th>3</th>\n",
       "      <td>0625_14:40</td>\n",
       "      <td>0.603469</td>\n",
       "      <td>0.603469</td>\n",
       "      <td>0.0</td>\n",
       "    </tr>\n",
       "    <tr>\n",
       "      <th>4</th>\n",
       "      <td>0625_14:41</td>\n",
       "      <td>0.603478</td>\n",
       "      <td>0.603478</td>\n",
       "      <td>0.0</td>\n",
       "    </tr>\n",
       "  </tbody>\n",
       "</table>\n",
       "</div>"
      ],
      "text/plain": [
       "    timestamp     Vi(V)     Vo(V)  current(mA)\n",
       "0  0625_14:37  0.604235  0.604235          0.0\n",
       "1  0625_14:38  0.603542  0.603542          0.0\n",
       "2  0625_14:39  0.603471  0.603471          0.0\n",
       "3  0625_14:40  0.603469  0.603469          0.0\n",
       "4  0625_14:41  0.603478  0.603478          0.0"
      ]
     },
     "execution_count": 62,
     "metadata": {},
     "output_type": "execute_result"
    }
   ],
   "source": [
    "t2_com3.head()"
   ]
  },
  {
   "cell_type": "markdown",
   "id": "52612640",
   "metadata": {},
   "source": [
    "## 2.4 补充缺失值"
   ]
  },
  {
   "cell_type": "markdown",
   "id": "164f9b5c",
   "metadata": {},
   "source": [
    "### 2.4.1 原型Demo"
   ]
  },
  {
   "cell_type": "markdown",
   "id": "5f22ac94",
   "metadata": {},
   "source": [
    "用于预测缺失值数据的库"
   ]
  },
  {
   "cell_type": "code",
   "execution_count": 1,
   "id": "cc272929",
   "metadata": {},
   "outputs": [
    {
     "name": "stderr",
     "output_type": "stream",
     "text": [
      "D:\\Environment\\MiniConda\\envs\\dong_math_2023\\lib\\site-packages\\statsmodels\\tsa\\base\\tsa_model.py:471: ValueWarning: An unsupported index was provided and will be ignored when e.g. forecasting.\n",
      "  self._init_dates(dates, freq)\n",
      "D:\\Environment\\MiniConda\\envs\\dong_math_2023\\lib\\site-packages\\statsmodels\\tsa\\base\\tsa_model.py:471: ValueWarning: An unsupported index was provided and will be ignored when e.g. forecasting.\n",
      "  self._init_dates(dates, freq)\n",
      "D:\\Environment\\MiniConda\\envs\\dong_math_2023\\lib\\site-packages\\statsmodels\\tsa\\base\\tsa_model.py:471: ValueWarning: An unsupported index was provided and will be ignored when e.g. forecasting.\n",
      "  self._init_dates(dates, freq)\n",
      "D:\\Environment\\MiniConda\\envs\\dong_math_2023\\lib\\site-packages\\statsmodels\\tsa\\base\\tsa_model.py:843: ValueWarning: No supported index is available. Prediction results will be given with an integer index beginning at `start`.\n",
      "  data=self.data,\n"
     ]
    },
    {
     "data": {
      "image/png": "[encoded data removed]",
      "text/plain": [
       "<Figure size 1200x600 with 1 Axes>"
      ]
     },
     "metadata": {},
     "output_type": "display_data"
    }
   ],
   "source": [
    "import pandas as pd\n",
    "import numpy as np\n",
    "from statsmodels.tsa.arima.model import ARIMA\n",
    "import matplotlib.pyplot as plt\n",
    "\n",
    "# 假设我们有一个包含缺失数据的DataFrame\n",
    "# 这里为了演示创建一个示例DataFrame，实际上需要从您的文件中读取数据\n",
    "data = {\n",
    "    'timestamp': pd.date_range(start='2024-06-25 12:00:00', end='2024-06-27 18:00:00', freq='H'),\n",
    "    'Vi(V)': np.nan\n",
    "}\n",
    "df = pd.DataFrame(data)\n",
    "\n",
    "# 这里手动创建一些示例数据和缺失数据区间\n",
    "df.loc[0:34, 'Vi(V)'] = np.random.uniform(0.78, 0.79, 35)  # 2024-06-25 12:00 到 2024-06-26 22:00\n",
    "df.loc[47:, 'Vi(V)'] = np.random.uniform(0.775, 0.78, len(df) - 47)  # 2024-06-27 14:00 到 2024-06-27 18:00\n",
    "\n",
    "# 提取已有数据部分用于训练模型\n",
    "df_train = df.dropna()\n",
    "\n",
    "# 创建并训练ARIMA模型\n",
    "model = ARIMA(df_train['Vi(V)'], order=(5, 1, 0))\n",
    "model_fit = model.fit()\n",
    "\n",
    "# 预测缺失数据区间\n",
    "start_index = 35\n",
    "end_index = 47\n",
    "forecast = model_fit.predict(start=start_index, end=end_index-1)\n",
    "\n",
    "# 将预测值填入缺失区间\n",
    "df.loc[start_index:end_index-1, 'Vi(V)'] = forecast\n",
    "\n",
    "# 可视化结果\n",
    "plt.figure(figsize=(12, 6))\n",
    "plt.plot(df['timestamp'], df['Vi(V)'], label='Vi(V)')\n",
    "plt.xlabel('Timestamp')\n",
    "plt.ylabel('Vi(V)')\n",
    "plt.title('Voltage Over Time with Missing Data Filled')\n",
    "plt.xticks(rotation=45)\n",
    "plt.legend()\n",
    "plt.show()\n"
   ]
  },
  {
   "cell_type": "markdown",
   "id": "5ac577ef",
   "metadata": {},
   "source": [
    "用于查找出缺失值的数量的库"
   ]
  },
  {
   "cell_type": "code",
   "execution_count": 2,
   "id": "1f063c21",
   "metadata": {},
   "outputs": [
    {
     "name": "stdout",
     "output_type": "stream",
     "text": [
      "丢失数据时间段: 2024-06-25 14:47:00 到 2024-06-27 14:10:00, 需要补充的个数: 1403 分钟\n",
      "                     Vi(V)\n",
      "timestamp                 \n",
      "2024-06-25 14:47:00    NaN\n",
      "2024-06-25 14:48:00    NaN\n",
      "2024-06-25 14:49:00    NaN\n",
      "2024-06-25 14:50:00    NaN\n",
      "2024-06-25 14:51:00    NaN\n",
      "...                    ...\n",
      "2024-06-27 14:06:00    NaN\n",
      "2024-06-27 14:07:00    NaN\n",
      "2024-06-27 14:08:00    NaN\n",
      "2024-06-27 14:09:00    NaN\n",
      "2024-06-27 14:10:00    NaN\n",
      "\n",
      "[2844 rows x 1 columns]\n"
     ]
    }
   ],
   "source": [
    "import pandas as pd\n",
    "\n",
    "# 假设你已经有一个包含 timestamp 和 Vi(V) 的数据框 df\n",
    "data = {\n",
    "    'timestamp': ['2024-06-25T14:47:23.638', '2024-06-25T14:57:23.638', '2024-06-25T15:07:23.638', \n",
    "                  '2024-06-26T21:50:23.638', '2024-06-27T14:10:23.638'],\n",
    "    'Vi(V)': [0.6028717, 0.6041284, 0.6056741, 0.6038725, 0.6071283]\n",
    "}\n",
    "\n",
    "df = pd.DataFrame(data)\n",
    "df['timestamp'] = pd.to_datetime(df['timestamp'])\n",
    "\n",
    "# 设置时间间隔为1分钟\n",
    "df = df.set_index('timestamp').resample('1T').asfreq()\n",
    "\n",
    "# 计算丢失的数据时间段\n",
    "missing_data = df[df['Vi(V)'].isnull()]\n",
    "\n",
    "# 找出丢失数据的时间段\n",
    "missing_intervals = (missing_data.index[1:] - missing_data.index[:-1]) > pd.Timedelta(minutes=10)\n",
    "\n",
    "# 获取丢失数据的起始和结束时间\n",
    "missing_starts = missing_data.index[:-1][missing_intervals]\n",
    "missing_ends = missing_data.index[1:][missing_intervals]\n",
    "\n",
    "# 添加第一个和最后一个时间段\n",
    "missing_starts = missing_starts.insert(0, missing_data.index[0])\n",
    "missing_ends = missing_ends.append(pd.Index([missing_data.index[-1]]))\n",
    "\n",
    "# 输出丢失数据的时间段及所需补充的个数\n",
    "for start, end in zip(missing_starts, missing_ends):\n",
    "    print(f\"丢失数据时间段: {start} 到 {end}, 需要补充的个数: {(end - start).seconds // 60} 分钟\")\n",
    "\n",
    "# 补充缺失的数据\n",
    "df['Vi(V)'] = df['Vi(V)'].interpolate()\n",
    "\n",
    "# 打印补充后的数据框\n",
    "print(df)\n"
   ]
  },
  {
   "cell_type": "markdown",
   "id": "f191e26c",
   "metadata": {},
   "source": [
    "### 2.4.2 探测需要补充的数值"
   ]
  },
  {
   "cell_type": "markdown",
   "id": "8c4ac40f",
   "metadata": {},
   "source": [
    "【背景】\n",
    "使用python的pandas库进行函数的设计\n",
    "\n",
    "---\n",
    "\n",
    "【函数设计】\n",
    "1. 函数名：checkNum_missData\n",
    "2. 函数入参：\n",
    "    1）dataFrame_d：dataframe对象，里面包含数据列“timestamp”和“Vi(V)”，分别代表“时间戳”(例如“2024-06-25 14:47:00”)和“电压数值”(例如\"0.603471\")\n",
    "\n",
    "3. 函数功能：\n",
    "    1）判断传入的dataFrame对象是否存在数据丢失的值：\n",
    "    - 判定标准：“timestamp”如果在10分钟以内没有数值，则认为该段时间内丢失数据\n",
    "    - 示例：上一个数据的“timestamp”为“2024-06-25 14:38:00”，下一个数据的“timestamp”为“2024-06-25 14:59:00”，2个数据的timestamp之差大于10分钟，则认为这两个数据之间存在丢失数据行为，视作一个丢失数据区间\n",
    "    2）以字典的形式记录每个丢失数据区间：\n",
    "    - 字典的key以“_missDataSection”结尾，字典的value以丢失的数据的时间区间的timestamp开始和结束\n",
    "    - 示例：上一个数据的“timestamp”为“2024-06-25 14:38:00”，下一个数据的“timestamp”为“2024-06-25 14:59:00”，则存在的丢失数据区间为\"2024-06-25 14:38:00\"到“2024-06-25 14:59:00”，假设是检测到的第四个丢失数据区间，则对应的字典的key-value为：`\"4_missDataSection\": [\"\"2024-06-25 14:38:00\", \"2024-06-25 14:59:00\"”]`\n",
    "    \n",
    "3. 函数Return：返回由丢失数据区间组成的字典对象 `dir_missDataSection`\n",
    "---\n",
    "\n",
    "\n",
    "【测试】\n",
    "变量名规范: 测试使用的变量名均需要待一个尾缀“_test\""
   ]
  },
  {
   "cell_type": "code",
   "execution_count": 28,
   "id": "5ab67c05",
   "metadata": {},
   "outputs": [
    {
     "name": "stdout",
     "output_type": "stream",
     "text": [
      "丢失数据区间字典:\n",
      "{'1_missDataSection': ['0625_15:00', '0626_22:38'], '2_missDataSection': ['0626_22:40', '0626_22:58'], '3_missDataSection': ['0626_23:10', '0627_14:58']}\n"
     ]
    }
   ],
   "source": [
    "import pandas as pd\n",
    "\n",
    "def checkNum_missData(dataFrame_d):\n",
    "    # 转换时间戳格式\n",
    "    dataFrame_d['timestamp'] = pd.to_datetime(dataFrame_d['timestamp'], format='%m%d_%H:%M')\n",
    "    \n",
    "    # 计算时间间隔\n",
    "    time_diff = dataFrame_d['timestamp'].diff()\n",
    "    \n",
    "    # 初始化存储丢失数据区间的字典\n",
    "    dir_missDataSection = {}\n",
    "    miss_section_count = 0\n",
    "    \n",
    "    # 遍历时间间隔，寻找丢失数据区间\n",
    "    for i in range(1, len(time_diff)):\n",
    "        if time_diff.iloc[i] > pd.Timedelta(minutes=10):\n",
    "            start_time = dataFrame_d['timestamp'].iloc[i - 1] + pd.Timedelta(minutes=1)\n",
    "            end_time = dataFrame_d['timestamp'].iloc[i] - pd.Timedelta(minutes=1)\n",
    "            miss_section_count += 1\n",
    "            key = f\"{miss_section_count}_missDataSection\"\n",
    "            dir_missDataSection[key] = [start_time.strftime('%m%d_%H:%M'), end_time.strftime('%m%d_%H:%M')]\n",
    "    \n",
    "    return dir_missDataSection\n",
    "\n",
    "# 测试数据\n",
    "data = {\n",
    "    'timestamp': ['0625_14:39', '0625_14:49', '0625_14:59', '0626_22:39', '0626_22:59', '0626_23:09', '0627_14:59'],\n",
    "    'Vi(V)': [0.603471, 0.6028717, 0.6041284, 0.6038725, 0.6071283, 0.6056741, 0.6083712]\n",
    "}\n",
    "\n",
    "df_test = pd.DataFrame(data)\n",
    "\n",
    "# 调用函数进行测试\n",
    "dir_missDataSection_test = checkNum_missData(df_test)\n",
    "\n",
    "# 打印测试结果\n",
    "print(\"丢失数据区间字典:\")\n",
    "print(dir_missDataSection_test)\n"
   ]
  },
  {
   "cell_type": "code",
   "execution_count": 23,
   "id": "f4f4b25b",
   "metadata": {},
   "outputs": [
    {
     "data": {
      "text/html": [
       "<div>\n",
       "<style scoped>\n",
       "    .dataframe tbody tr th:only-of-type {\n",
       "        vertical-align: middle;\n",
       "    }\n",
       "\n",
       "    .dataframe tbody tr th {\n",
       "        vertical-align: top;\n",
       "    }\n",
       "\n",
       "    .dataframe thead th {\n",
       "        text-align: right;\n",
       "    }\n",
       "</style>\n",
       "<table border=\"1\" class=\"dataframe\">\n",
       "  <thead>\n",
       "    <tr style=\"text-align: right;\">\n",
       "      <th></th>\n",
       "      <th>timestamp</th>\n",
       "      <th>Vi(V)</th>\n",
       "      <th>Vo(V)</th>\n",
       "      <th>current(mA)</th>\n",
       "    </tr>\n",
       "  </thead>\n",
       "  <tbody>\n",
       "    <tr>\n",
       "      <th>0</th>\n",
       "      <td>0626_14:48</td>\n",
       "      <td>0.787452</td>\n",
       "      <td>0.787452</td>\n",
       "      <td>0.000002</td>\n",
       "    </tr>\n",
       "    <tr>\n",
       "      <th>1</th>\n",
       "      <td>0626_14:49</td>\n",
       "      <td>0.786504</td>\n",
       "      <td>0.786504</td>\n",
       "      <td>0.000002</td>\n",
       "    </tr>\n",
       "    <tr>\n",
       "      <th>2</th>\n",
       "      <td>0626_14:50</td>\n",
       "      <td>0.785218</td>\n",
       "      <td>0.785217</td>\n",
       "      <td>0.000002</td>\n",
       "    </tr>\n",
       "    <tr>\n",
       "      <th>3</th>\n",
       "      <td>0626_14:51</td>\n",
       "      <td>0.784682</td>\n",
       "      <td>0.784681</td>\n",
       "      <td>0.000003</td>\n",
       "    </tr>\n",
       "    <tr>\n",
       "      <th>4</th>\n",
       "      <td>0626_14:52</td>\n",
       "      <td>0.784655</td>\n",
       "      <td>0.784655</td>\n",
       "      <td>0.000003</td>\n",
       "    </tr>\n",
       "  </tbody>\n",
       "</table>\n",
       "</div>"
      ],
      "text/plain": [
       "    timestamp     Vi(V)     Vo(V)  current(mA)\n",
       "0  0626_14:48  0.787452  0.787452     0.000002\n",
       "1  0626_14:49  0.786504  0.786504     0.000002\n",
       "2  0626_14:50  0.785218  0.785217     0.000002\n",
       "3  0626_14:51  0.784682  0.784681     0.000003\n",
       "4  0626_14:52  0.784655  0.784655     0.000003"
      ]
     },
     "execution_count": 23,
     "metadata": {},
     "output_type": "execute_result"
    }
   ],
   "source": [
    "t2_com5.head()"
   ]
  },
  {
   "cell_type": "code",
   "execution_count": 24,
   "id": "2031fc19",
   "metadata": {},
   "outputs": [],
   "source": [
    "dir_missDataSection_test = checkNum_missData(t2_com5)"
   ]
  },
  {
   "cell_type": "code",
   "execution_count": 25,
   "id": "2efb8e4d",
   "metadata": {},
   "outputs": [
    {
     "data": {
      "text/plain": [
       "{'1_missDataSection': ['0626_22:24', '0627_14:32']}"
      ]
     },
     "execution_count": 25,
     "metadata": {},
     "output_type": "execute_result"
    }
   ],
   "source": [
    "dir_missDataSection_test"
   ]
  },
  {
   "cell_type": "markdown",
   "id": "4877445c",
   "metadata": {},
   "source": [
    "### 2.4.3 预测数据ARMS模型"
   ]
  },
  {
   "cell_type": "markdown",
   "id": "f20d3f1f",
   "metadata": {},
   "source": [
    "【背景】\n",
    "使用python的pandas库、statsmodels库 和 ARIMA（AutoRegressive Integrated Moving Average）模型 进行函数的设计\n",
    "\n",
    "---\n",
    "\n",
    "【函数设计】\n",
    "1. 函数名：predictData_forMissDataSection\n",
    "2. 函数入参：\n",
    "    1）dataFrame_d：dataframe对象，里面包含数据列“timestamp”和“Vi(V)”，分别代表“时间戳”(例如“0625_14:39”)和“电压数值”(例如\"0.603471\")，但是里面会有一些缺失的数据值（认为timestamp所代表的时间值相差超过10分钟以上，则认为是1个数据丢失区间）\n",
    "    2）dir_missDataSection：字典对象，里面是检测出来的是参数1的dataFrame_d中的所有数据丢失区间的信息\n",
    "    - 示例：例如 `dir_missDataSection={'1_missDataSection': ['0626_22:24', '0627_14:32']}`,代表着存在1个丢失数据区间,所丢失的数据是从'0626_22:24'开始，到'0627_14:32'结束\n",
    "\n",
    "3. 函数功能：\n",
    "    1）提取前面已有的数据部分用来训练ARIMA模型\n",
    "    2）使用训练好的模型预测缺失区间的数据\n",
    "    3）将预测值填入缺失区间中\n",
    "    4）可视化结果\n",
    "    \n",
    "3. 函数Return：返回一个已填入缺失区间的新的dataFrame对象\n",
    "---\n",
    "\n",
    "【测试】\n",
    "变量名规范: 测试使用的变量名均需要待一个尾缀“_test\""
   ]
  },
  {
   "cell_type": "code",
   "execution_count": 27,
   "id": "88b45999",
   "metadata": {},
   "outputs": [
    {
     "name": "stderr",
     "output_type": "stream",
     "text": [
      "D:\\Environment\\MiniConda\\envs\\dong_math_2023\\lib\\site-packages\\statsmodels\\tsa\\base\\tsa_model.py:471: ValueWarning: No frequency information was provided, so inferred frequency T will be used.\n",
      "  self._init_dates(dates, freq)\n",
      "D:\\Environment\\MiniConda\\envs\\dong_math_2023\\lib\\site-packages\\statsmodels\\tsa\\base\\tsa_model.py:471: ValueWarning: No frequency information was provided, so inferred frequency T will be used.\n",
      "  self._init_dates(dates, freq)\n",
      "D:\\Environment\\MiniConda\\envs\\dong_math_2023\\lib\\site-packages\\statsmodels\\tsa\\base\\tsa_model.py:471: ValueWarning: No frequency information was provided, so inferred frequency T will be used.\n",
      "  self._init_dates(dates, freq)\n",
      "D:\\Environment\\MiniConda\\envs\\dong_math_2023\\lib\\site-packages\\statsmodels\\tsa\\statespace\\sarimax.py:868: UserWarning: Too few observations to estimate starting parameters for ARMA and trend. All parameters except for variances will be set to zeros.\n",
      "  ' zeros.' % warning_description)\n"
     ]
    },
    {
     "ename": "KeyError",
     "evalue": "\"None of [DatetimeIndex(['1900-06-26 22:24:00', '1900-06-26 22:25:00',\\n               '1900-06-26 22:26:00', '1900-06-26 22:27:00',\\n               '1900-06-26 22:28:00', '1900-06-26 22:29:00',\\n               '1900-06-26 22:30:00', '1900-06-26 22:31:00',\\n               '1900-06-26 22:32:00', '1900-06-26 22:33:00',\\n               ...\\n               '1900-06-27 14:23:00', '1900-06-27 14:24:00',\\n               '1900-06-27 14:25:00', '1900-06-27 14:26:00',\\n               '1900-06-27 14:27:00', '1900-06-27 14:28:00',\\n               '1900-06-27 14:29:00', '1900-06-27 14:30:00',\\n               '1900-06-27 14:31:00', '1900-06-27 14:32:00'],\\n              dtype='datetime64[ns]', length=969, freq='T')] are in the [index]\"",
     "output_type": "error",
     "traceback": [
      "\u001b[1;31m---------------------------------------------------------------------------\u001b[0m",
      "\u001b[1;31mKeyError\u001b[0m                                  Traceback (most recent call last)",
      "\u001b[1;32m~\\AppData\\Local\\Temp\\ipykernel_6880\\4097913196.py\u001b[0m in \u001b[0;36m<module>\u001b[1;34m\u001b[0m\n\u001b[0;32m     68\u001b[0m \u001b[1;33m\u001b[0m\u001b[0m\n\u001b[0;32m     69\u001b[0m \u001b[1;31m# 调用函数进行处理\u001b[0m\u001b[1;33m\u001b[0m\u001b[1;33m\u001b[0m\u001b[1;33m\u001b[0m\u001b[0m\n\u001b[1;32m---> 70\u001b[1;33m \u001b[0mnew_df_test\u001b[0m \u001b[1;33m=\u001b[0m \u001b[0mpredictData_forMissDataSection\u001b[0m\u001b[1;33m(\u001b[0m\u001b[0mdf_test\u001b[0m\u001b[1;33m,\u001b[0m \u001b[0mdir_missDataSection_test\u001b[0m\u001b[1;33m)\u001b[0m\u001b[1;33m\u001b[0m\u001b[1;33m\u001b[0m\u001b[0m\n\u001b[0m\u001b[0;32m     71\u001b[0m \u001b[0mprint\u001b[0m\u001b[1;33m(\u001b[0m\u001b[0mnew_df_test\u001b[0m\u001b[1;33m)\u001b[0m\u001b[1;33m\u001b[0m\u001b[1;33m\u001b[0m\u001b[0m\n",
      "\u001b[1;32m~\\AppData\\Local\\Temp\\ipykernel_6880\\4097913196.py\u001b[0m in \u001b[0;36mpredictData_forMissDataSection\u001b[1;34m(dataFrame_d, dir_missDataSection)\u001b[0m\n\u001b[0;32m     38\u001b[0m \u001b[1;33m\u001b[0m\u001b[0m\n\u001b[0;32m     39\u001b[0m         \u001b[1;31m# 填充预测值\u001b[0m\u001b[1;33m\u001b[0m\u001b[1;33m\u001b[0m\u001b[1;33m\u001b[0m\u001b[0m\n\u001b[1;32m---> 40\u001b[1;33m         \u001b[0mdf\u001b[0m\u001b[1;33m.\u001b[0m\u001b[0mloc\u001b[0m\u001b[1;33m[\u001b[0m\u001b[0mmissing_range\u001b[0m\u001b[1;33m,\u001b[0m \u001b[1;34m'Vi(V)'\u001b[0m\u001b[1;33m]\u001b[0m \u001b[1;33m=\u001b[0m \u001b[0mforecast\u001b[0m\u001b[1;33m.\u001b[0m\u001b[0mvalues\u001b[0m\u001b[1;33m\u001b[0m\u001b[1;33m\u001b[0m\u001b[0m\n\u001b[0m\u001b[0;32m     41\u001b[0m \u001b[1;33m\u001b[0m\u001b[0m\n\u001b[0;32m     42\u001b[0m     \u001b[1;31m# 可视化结果\u001b[0m\u001b[1;33m\u001b[0m\u001b[1;33m\u001b[0m\u001b[1;33m\u001b[0m\u001b[0m\n",
      "\u001b[1;32mD:\\Environment\\MiniConda\\envs\\dong_math_2023\\lib\\site-packages\\pandas\\core\\indexing.py\u001b[0m in \u001b[0;36m__setitem__\u001b[1;34m(self, key, value)\u001b[0m\n\u001b[0;32m    717\u001b[0m         \u001b[1;32melse\u001b[0m\u001b[1;33m:\u001b[0m\u001b[1;33m\u001b[0m\u001b[1;33m\u001b[0m\u001b[0m\n\u001b[0;32m    718\u001b[0m             \u001b[0mkey\u001b[0m \u001b[1;33m=\u001b[0m \u001b[0mcom\u001b[0m\u001b[1;33m.\u001b[0m\u001b[0mapply_if_callable\u001b[0m\u001b[1;33m(\u001b[0m\u001b[0mkey\u001b[0m\u001b[1;33m,\u001b[0m \u001b[0mself\u001b[0m\u001b[1;33m.\u001b[0m\u001b[0mobj\u001b[0m\u001b[1;33m)\u001b[0m\u001b[1;33m\u001b[0m\u001b[1;33m\u001b[0m\u001b[0m\n\u001b[1;32m--> 719\u001b[1;33m         \u001b[0mindexer\u001b[0m \u001b[1;33m=\u001b[0m \u001b[0mself\u001b[0m\u001b[1;33m.\u001b[0m\u001b[0m_get_setitem_indexer\u001b[0m\u001b[1;33m(\u001b[0m\u001b[0mkey\u001b[0m\u001b[1;33m)\u001b[0m\u001b[1;33m\u001b[0m\u001b[1;33m\u001b[0m\u001b[0m\n\u001b[0m\u001b[0;32m    720\u001b[0m         \u001b[0mself\u001b[0m\u001b[1;33m.\u001b[0m\u001b[0m_has_valid_setitem_indexer\u001b[0m\u001b[1;33m(\u001b[0m\u001b[0mkey\u001b[0m\u001b[1;33m)\u001b[0m\u001b[1;33m\u001b[0m\u001b[1;33m\u001b[0m\u001b[0m\n\u001b[0;32m    721\u001b[0m \u001b[1;33m\u001b[0m\u001b[0m\n",
      "\u001b[1;32mD:\\Environment\\MiniConda\\envs\\dong_math_2023\\lib\\site-packages\\pandas\\core\\indexing.py\u001b[0m in \u001b[0;36m_get_setitem_indexer\u001b[1;34m(self, key)\u001b[0m\n\u001b[0;32m    658\u001b[0m         \u001b[1;32mif\u001b[0m \u001b[0misinstance\u001b[0m\u001b[1;33m(\u001b[0m\u001b[0mkey\u001b[0m\u001b[1;33m,\u001b[0m \u001b[0mtuple\u001b[0m\u001b[1;33m)\u001b[0m\u001b[1;33m:\u001b[0m\u001b[1;33m\u001b[0m\u001b[1;33m\u001b[0m\u001b[0m\n\u001b[0;32m    659\u001b[0m             \u001b[1;32mwith\u001b[0m \u001b[0msuppress\u001b[0m\u001b[1;33m(\u001b[0m\u001b[0mIndexingError\u001b[0m\u001b[1;33m)\u001b[0m\u001b[1;33m:\u001b[0m\u001b[1;33m\u001b[0m\u001b[1;33m\u001b[0m\u001b[0m\n\u001b[1;32m--> 660\u001b[1;33m                 \u001b[1;32mreturn\u001b[0m \u001b[0mself\u001b[0m\u001b[1;33m.\u001b[0m\u001b[0m_convert_tuple\u001b[0m\u001b[1;33m(\u001b[0m\u001b[0mkey\u001b[0m\u001b[1;33m,\u001b[0m \u001b[0mis_setter\u001b[0m\u001b[1;33m=\u001b[0m\u001b[1;32mTrue\u001b[0m\u001b[1;33m)\u001b[0m\u001b[1;33m\u001b[0m\u001b[1;33m\u001b[0m\u001b[0m\n\u001b[0m\u001b[0;32m    661\u001b[0m \u001b[1;33m\u001b[0m\u001b[0m\n\u001b[0;32m    662\u001b[0m         \u001b[1;32mif\u001b[0m \u001b[0misinstance\u001b[0m\u001b[1;33m(\u001b[0m\u001b[0mkey\u001b[0m\u001b[1;33m,\u001b[0m \u001b[0mrange\u001b[0m\u001b[1;33m)\u001b[0m\u001b[1;33m:\u001b[0m\u001b[1;33m\u001b[0m\u001b[1;33m\u001b[0m\u001b[0m\n",
      "\u001b[1;32mD:\\Environment\\MiniConda\\envs\\dong_math_2023\\lib\\site-packages\\pandas\\core\\indexing.py\u001b[0m in \u001b[0;36m_convert_tuple\u001b[1;34m(self, key, is_setter)\u001b[0m\n\u001b[0;32m    783\u001b[0m             \u001b[0mself\u001b[0m\u001b[1;33m.\u001b[0m\u001b[0m_validate_key_length\u001b[0m\u001b[1;33m(\u001b[0m\u001b[0mkey\u001b[0m\u001b[1;33m)\u001b[0m\u001b[1;33m\u001b[0m\u001b[1;33m\u001b[0m\u001b[0m\n\u001b[0;32m    784\u001b[0m             \u001b[1;32mfor\u001b[0m \u001b[0mi\u001b[0m\u001b[1;33m,\u001b[0m \u001b[0mk\u001b[0m \u001b[1;32min\u001b[0m \u001b[0menumerate\u001b[0m\u001b[1;33m(\u001b[0m\u001b[0mkey\u001b[0m\u001b[1;33m)\u001b[0m\u001b[1;33m:\u001b[0m\u001b[1;33m\u001b[0m\u001b[1;33m\u001b[0m\u001b[0m\n\u001b[1;32m--> 785\u001b[1;33m                 \u001b[0midx\u001b[0m \u001b[1;33m=\u001b[0m \u001b[0mself\u001b[0m\u001b[1;33m.\u001b[0m\u001b[0m_convert_to_indexer\u001b[0m\u001b[1;33m(\u001b[0m\u001b[0mk\u001b[0m\u001b[1;33m,\u001b[0m \u001b[0maxis\u001b[0m\u001b[1;33m=\u001b[0m\u001b[0mi\u001b[0m\u001b[1;33m,\u001b[0m \u001b[0mis_setter\u001b[0m\u001b[1;33m=\u001b[0m\u001b[0mis_setter\u001b[0m\u001b[1;33m)\u001b[0m\u001b[1;33m\u001b[0m\u001b[1;33m\u001b[0m\u001b[0m\n\u001b[0m\u001b[0;32m    786\u001b[0m                 \u001b[0mkeyidx\u001b[0m\u001b[1;33m.\u001b[0m\u001b[0mappend\u001b[0m\u001b[1;33m(\u001b[0m\u001b[0midx\u001b[0m\u001b[1;33m)\u001b[0m\u001b[1;33m\u001b[0m\u001b[1;33m\u001b[0m\u001b[0m\n\u001b[0;32m    787\u001b[0m \u001b[1;33m\u001b[0m\u001b[0m\n",
      "\u001b[1;32mD:\\Environment\\MiniConda\\envs\\dong_math_2023\\lib\\site-packages\\pandas\\core\\indexing.py\u001b[0m in \u001b[0;36m_convert_to_indexer\u001b[1;34m(self, key, axis, is_setter)\u001b[0m\n\u001b[0;32m   1255\u001b[0m                 \u001b[1;32mreturn\u001b[0m \u001b[0minds\u001b[0m\u001b[1;33m\u001b[0m\u001b[1;33m\u001b[0m\u001b[0m\n\u001b[0;32m   1256\u001b[0m             \u001b[1;32melse\u001b[0m\u001b[1;33m:\u001b[0m\u001b[1;33m\u001b[0m\u001b[1;33m\u001b[0m\u001b[0m\n\u001b[1;32m-> 1257\u001b[1;33m                 \u001b[1;32mreturn\u001b[0m \u001b[0mself\u001b[0m\u001b[1;33m.\u001b[0m\u001b[0m_get_listlike_indexer\u001b[0m\u001b[1;33m(\u001b[0m\u001b[0mkey\u001b[0m\u001b[1;33m,\u001b[0m \u001b[0maxis\u001b[0m\u001b[1;33m)\u001b[0m\u001b[1;33m[\u001b[0m\u001b[1;36m1\u001b[0m\u001b[1;33m]\u001b[0m\u001b[1;33m\u001b[0m\u001b[1;33m\u001b[0m\u001b[0m\n\u001b[0m\u001b[0;32m   1258\u001b[0m         \u001b[1;32melse\u001b[0m\u001b[1;33m:\u001b[0m\u001b[1;33m\u001b[0m\u001b[1;33m\u001b[0m\u001b[0m\n\u001b[0;32m   1259\u001b[0m             \u001b[1;32mtry\u001b[0m\u001b[1;33m:\u001b[0m\u001b[1;33m\u001b[0m\u001b[1;33m\u001b[0m\u001b[0m\n",
      "\u001b[1;32mD:\\Environment\\MiniConda\\envs\\dong_math_2023\\lib\\site-packages\\pandas\\core\\indexing.py\u001b[0m in \u001b[0;36m_get_listlike_indexer\u001b[1;34m(self, key, axis)\u001b[0m\n\u001b[0;32m   1312\u001b[0m             \u001b[0mkeyarr\u001b[0m\u001b[1;33m,\u001b[0m \u001b[0mindexer\u001b[0m\u001b[1;33m,\u001b[0m \u001b[0mnew_indexer\u001b[0m \u001b[1;33m=\u001b[0m \u001b[0max\u001b[0m\u001b[1;33m.\u001b[0m\u001b[0m_reindex_non_unique\u001b[0m\u001b[1;33m(\u001b[0m\u001b[0mkeyarr\u001b[0m\u001b[1;33m)\u001b[0m\u001b[1;33m\u001b[0m\u001b[1;33m\u001b[0m\u001b[0m\n\u001b[0;32m   1313\u001b[0m \u001b[1;33m\u001b[0m\u001b[0m\n\u001b[1;32m-> 1314\u001b[1;33m         \u001b[0mself\u001b[0m\u001b[1;33m.\u001b[0m\u001b[0m_validate_read_indexer\u001b[0m\u001b[1;33m(\u001b[0m\u001b[0mkeyarr\u001b[0m\u001b[1;33m,\u001b[0m \u001b[0mindexer\u001b[0m\u001b[1;33m,\u001b[0m \u001b[0maxis\u001b[0m\u001b[1;33m)\u001b[0m\u001b[1;33m\u001b[0m\u001b[1;33m\u001b[0m\u001b[0m\n\u001b[0m\u001b[0;32m   1315\u001b[0m \u001b[1;33m\u001b[0m\u001b[0m\n\u001b[0;32m   1316\u001b[0m         if needs_i8_conversion(ax.dtype) or isinstance(\n",
      "\u001b[1;32mD:\\Environment\\MiniConda\\envs\\dong_math_2023\\lib\\site-packages\\pandas\\core\\indexing.py\u001b[0m in \u001b[0;36m_validate_read_indexer\u001b[1;34m(self, key, indexer, axis)\u001b[0m\n\u001b[0;32m   1372\u001b[0m                 \u001b[1;32mif\u001b[0m \u001b[0muse_interval_msg\u001b[0m\u001b[1;33m:\u001b[0m\u001b[1;33m\u001b[0m\u001b[1;33m\u001b[0m\u001b[0m\n\u001b[0;32m   1373\u001b[0m                     \u001b[0mkey\u001b[0m \u001b[1;33m=\u001b[0m \u001b[0mlist\u001b[0m\u001b[1;33m(\u001b[0m\u001b[0mkey\u001b[0m\u001b[1;33m)\u001b[0m\u001b[1;33m\u001b[0m\u001b[1;33m\u001b[0m\u001b[0m\n\u001b[1;32m-> 1374\u001b[1;33m                 \u001b[1;32mraise\u001b[0m \u001b[0mKeyError\u001b[0m\u001b[1;33m(\u001b[0m\u001b[1;34mf\"None of [{key}] are in the [{axis_name}]\"\u001b[0m\u001b[1;33m)\u001b[0m\u001b[1;33m\u001b[0m\u001b[1;33m\u001b[0m\u001b[0m\n\u001b[0m\u001b[0;32m   1375\u001b[0m \u001b[1;33m\u001b[0m\u001b[0m\n\u001b[0;32m   1376\u001b[0m             \u001b[0mnot_found\u001b[0m \u001b[1;33m=\u001b[0m \u001b[0mlist\u001b[0m\u001b[1;33m(\u001b[0m\u001b[0mensure_index\u001b[0m\u001b[1;33m(\u001b[0m\u001b[0mkey\u001b[0m\u001b[1;33m)\u001b[0m\u001b[1;33m[\u001b[0m\u001b[0mmissing_mask\u001b[0m\u001b[1;33m.\u001b[0m\u001b[0mnonzero\u001b[0m\u001b[1;33m(\u001b[0m\u001b[1;33m)\u001b[0m\u001b[1;33m[\u001b[0m\u001b[1;36m0\u001b[0m\u001b[1;33m]\u001b[0m\u001b[1;33m]\u001b[0m\u001b[1;33m.\u001b[0m\u001b[0munique\u001b[0m\u001b[1;33m(\u001b[0m\u001b[1;33m)\u001b[0m\u001b[1;33m)\u001b[0m\u001b[1;33m\u001b[0m\u001b[1;33m\u001b[0m\u001b[0m\n",
      "\u001b[1;31mKeyError\u001b[0m: \"None of [DatetimeIndex(['1900-06-26 22:24:00', '1900-06-26 22:25:00',\\n               '1900-06-26 22:26:00', '1900-06-26 22:27:00',\\n               '1900-06-26 22:28:00', '1900-06-26 22:29:00',\\n               '1900-06-26 22:30:00', '1900-06-26 22:31:00',\\n               '1900-06-26 22:32:00', '1900-06-26 22:33:00',\\n               ...\\n               '1900-06-27 14:23:00', '1900-06-27 14:24:00',\\n               '1900-06-27 14:25:00', '1900-06-27 14:26:00',\\n               '1900-06-27 14:27:00', '1900-06-27 14:28:00',\\n               '1900-06-27 14:29:00', '1900-06-27 14:30:00',\\n               '1900-06-27 14:31:00', '1900-06-27 14:32:00'],\\n              dtype='datetime64[ns]', length=969, freq='T')] are in the [index]\""
     ]
    }
   ],
   "source": [
    "import pandas as pd\n",
    "import numpy as np\n",
    "from statsmodels.tsa.arima.model import ARIMA\n",
    "import matplotlib.pyplot as plt\n",
    "\n",
    "def predictData_forMissDataSection(dataFrame_d, dir_missDataSection):\n",
    "    \"\"\"\n",
    "    使用ARIMA模型预测并填补DataFrame中的缺失数据区间。\n",
    "\n",
    "    参数:\n",
    "        dataFrame_d (pd.DataFrame): 包含\"timestamp\"和\"Vi(V)\"列的DataFrame对象。\n",
    "        dir_missDataSection (dict): 记录缺失数据区间信息的字典对象。\n",
    "        \n",
    "    返回:\n",
    "        pd.DataFrame: 填补了缺失数据区间的新的DataFrame对象。\n",
    "    \"\"\"\n",
    "    # 确保'timestamp'列为datetime类型\n",
    "    dataFrame_d['timestamp'] = pd.to_datetime(dataFrame_d['timestamp'], format='%m%d_%H:%M')\n",
    "\n",
    "    # 设置'timestamp'列为索引\n",
    "    df = dataFrame_d.set_index('timestamp')\n",
    "\n",
    "    # 依次处理每个缺失区间\n",
    "    for miss_section in dir_missDataSection.values():\n",
    "        start_miss = pd.to_datetime(miss_section[0], format='%m%d_%H:%M')\n",
    "        end_miss = pd.to_datetime(miss_section[1], format='%m%d_%H:%M')\n",
    "\n",
    "        # 提取缺失区间之前的数据用于训练\n",
    "        df_train = df.loc[:start_miss].dropna()\n",
    "\n",
    "        # 创建并训练ARIMA模型\n",
    "        model = ARIMA(df_train['Vi(V)'], order=(5, 1, 0))\n",
    "        model_fit = model.fit()\n",
    "\n",
    "        # 预测缺失区间的数据\n",
    "        missing_range = pd.date_range(start=start_miss, end=end_miss, freq='T')\n",
    "        forecast = model_fit.predict(start=len(df_train), end=len(df_train) + len(missing_range) - 1)\n",
    "        \n",
    "        # 填充预测值\n",
    "        df.loc[missing_range, 'Vi(V)'] = forecast.values\n",
    "\n",
    "    # 可视化结果\n",
    "    plt.figure(figsize=(12, 6))\n",
    "    plt.plot(df.index, df['Vi(V)'], label='Vi(V)')\n",
    "    plt.xlabel('Timestamp')\n",
    "    plt.ylabel('Vi(V)')\n",
    "    plt.title('Voltage Over Time with Missing Data Filled')\n",
    "    plt.xticks(rotation=45)\n",
    "    plt.legend()\n",
    "    plt.show()\n",
    "\n",
    "    # 返回填补了缺失数据区间的新的DataFrame对象\n",
    "    return df.reset_index()\n",
    "\n",
    "# 测试数据\n",
    "data_test = {\n",
    "    'timestamp': [\n",
    "        '0625_14:37', '0625_14:38', '0625_14:39', '0625_14:40',\n",
    "        '0626_22:23', '0627_14:33', '0627_14:34', '0627_14:35'\n",
    "    ],\n",
    "    'Vi(V)': [\n",
    "        0.603471, 0.603572, 0.603673, 0.603774,\n",
    "        np.nan, np.nan, 0.603875, 0.603976\n",
    "    ]\n",
    "}\n",
    "df_test = pd.DataFrame(data_test)\n",
    "dir_missDataSection_test = {'1_missDataSection': ['0626_22:24', '0627_14:32']}\n",
    "\n",
    "# 调用函数进行处理\n",
    "new_df_test = predictData_forMissDataSection(df_test, dir_missDataSection_test)\n",
    "print(new_df_test)\n"
   ]
  },
  {
   "cell_type": "markdown",
   "id": "46da893d",
   "metadata": {},
   "source": [
    "# 三、保存数据"
   ]
  },
  {
   "cell_type": "markdown",
   "id": "365eb9d6",
   "metadata": {},
   "source": [
    "【背景】\n",
    "使用python的pandas库进行函数的设计\n",
    "\n",
    "---\n",
    "\n",
    "【函数设计】\n",
    "1. 函数名：saveToFile_csv\n",
    "2. 函数入参：\n",
    "    1）dataFrame_d：dataframe对象，里面包含数据列“timestamp”和“Vi(V)”，分别代表“时间戳”和“电压数值”\n",
    "\n",
    "3. 函数功能：\n",
    "    1）判断代码运行的目录下是否有名为“tmpData”的文件夹，如果没有则创建\n",
    "    - 示例：判断是否存在\"./tmpData\"的文件夹\n",
    "    2）在\"tmpData\"目录下，按照函数的\"传入参数的变量名+当前时间”来创建一个\".csv\"尾椎的csv文件，里面保存2列数据：“timestamp”和“Vi(V)”列名及对应的所有值\n",
    "    - 示例：传入的是变量名为`com3_t1`的dataframe对象，则在tmpData目录下创建“com3_t1_202406271319.csv”的文件，并写入数据\n",
    "    - 注意：如果tmpData目录已存在该命名的csv文件，需要提示是否要覆盖写入\n",
    "    3）如果上述过程无抛错，则提示文件写入成果，并给出完整的文件路径\n",
    "    - 示例：例如写入com3_t1.csv成功，则提示文件所在的绝对路径+“写入成功”\n",
    "    \n",
    "---\n",
    "\n",
    "【测试】\n",
    "变量名规范: 测试使用的变量名均需要待一个尾缀“_test\""
   ]
  },
  {
   "cell_type": "markdown",
   "id": "6868eb21",
   "metadata": {},
   "source": [
    "## v1.0\n",
    "问题：缺乏时间尾椎"
   ]
  },
  {
   "cell_type": "code",
   "execution_count": 65,
   "id": "5f638582",
   "metadata": {},
   "outputs": [
    {
     "name": "stdout",
     "output_type": "stream",
     "text": [
      "./tmpData\\com3_t1_test.csv 已存在。是否要覆盖写入？(y/n): n\n",
      "文件未被覆盖写入。\n"
     ]
    }
   ],
   "source": [
    "import pandas as pd\n",
    "import os\n",
    "\n",
    "def saveToFile_csv(dataFrame_d, var_name):\n",
    "    \"\"\"\n",
    "    将DataFrame对象保存为csv文件，如果没有tmpData文件夹则创建一个。\n",
    "    \n",
    "    参数:\n",
    "        dataFrame_d (pd.DataFrame): 包含\"timestamp\"和\"Vi(V)\"列的DataFrame对象。\n",
    "        var_name (str): DataFrame变量的名称，用于命名生成的csv文件。\n",
    "        \n",
    "    返回:\n",
    "        None\n",
    "    \"\"\"\n",
    "    # 检查是否存在tmpData文件夹，如果没有则创建\n",
    "    dir_name = \"./tmpData\"\n",
    "    if not os.path.exists(dir_name):\n",
    "        os.makedirs(dir_name)\n",
    "    \n",
    "    # 文件路径\n",
    "    file_path = os.path.join(dir_name, f\"{var_name}.csv\")\n",
    "    \n",
    "    # 检查文件是否存在，如果存在提示是否覆盖\n",
    "    if os.path.exists(file_path):\n",
    "        overwrite = input(f\"{file_path} 已存在。是否要覆盖写入？(y/n): \").strip().lower()\n",
    "        if overwrite != 'y':\n",
    "            print(\"文件未被覆盖写入。\")\n",
    "            return\n",
    "    \n",
    "    # 将DataFrame保存为csv文件\n",
    "    try:\n",
    "        dataFrame_d.to_csv(file_path, index=False)\n",
    "        print(f\"{file_path} 写入成功\")\n",
    "    except Exception as e:\n",
    "        print(f\"写入文件时发生错误: {e}\")\n",
    "\n",
    "# 测试数据\n",
    "data_test = {\n",
    "    'timestamp': [\n",
    "        '2024-06-25 14:37:00', '2024-06-25 14:37:01', '2024-06-25 14:37:02',\n",
    "        '2024-06-25 14:38:03', '2024-06-25 14:38:04', '2024-06-25 14:38:05'\n",
    "    ],\n",
    "    'Vi(V)': [\n",
    "        0.604235, 0.604336, 0.604437,\n",
    "        0.590191, 0.590386, 0.590432\n",
    "    ]\n",
    "}\n",
    "df_test = pd.DataFrame(data_test)\n",
    "var_name_test = \"com3_t1_test\"\n",
    "\n",
    "# 调用函数进行处理\n",
    "saveToFile_csv(df_test, var_name_test)\n"
   ]
  },
  {
   "cell_type": "markdown",
   "id": "68c11275",
   "metadata": {},
   "source": [
    "## v1.1"
   ]
  },
  {
   "cell_type": "code",
   "execution_count": 67,
   "id": "4dd3fff7",
   "metadata": {},
   "outputs": [
    {
     "name": "stdout",
     "output_type": "stream",
     "text": [
      "./tmpData\\com3_t1_test_202406271322.csv 已存在。是否要覆盖写入？(y/n): n\n",
      "文件未被覆盖写入。\n"
     ]
    }
   ],
   "source": [
    "import pandas as pd\n",
    "import os\n",
    "from datetime import datetime\n",
    "\n",
    "def saveToFile_csv(dataFrame_d, var_name):\n",
    "    \"\"\"\n",
    "    将DataFrame对象保存为csv文件，如果没有tmpData文件夹则创建一个。\n",
    "    \n",
    "    参数:\n",
    "        dataFrame_d (pd.DataFrame): 包含\"timestamp\"和\"Vi(V)\"列的DataFrame对象。\n",
    "        var_name (str): DataFrame变量的名称，用于命名生成的csv文件。\n",
    "        \n",
    "    返回:\n",
    "        None\n",
    "    \"\"\"\n",
    "    # 检查是否存在tmpData文件夹，如果没有则创建\n",
    "    dir_name = \"./tmpData\"\n",
    "    if not os.path.exists(dir_name):\n",
    "        os.makedirs(dir_name)\n",
    "    \n",
    "    # 获取当前时间并格式化\n",
    "    current_time = datetime.now().strftime('%Y%m%d%H%M')\n",
    "\n",
    "    # 文件路径\n",
    "    file_path = os.path.join(dir_name, f\"{var_name}_{current_time}.csv\")\n",
    "\n",
    "    # 检查文件是否存在，如果存在提示是否覆盖\n",
    "    if os.path.exists(file_path):\n",
    "        overwrite = input(f\"{file_path} 已存在。是否要覆盖写入？(y/n): \").strip().lower()\n",
    "        if overwrite != 'y':\n",
    "            print(\"文件未被覆盖写入。\")\n",
    "            return\n",
    "    \n",
    "    # 将DataFrame保存为csv文件\n",
    "    try:\n",
    "        dataFrame_d.to_csv(file_path, index=False)\n",
    "        print(f\"{file_path} 写入成功\")\n",
    "    except Exception as e:\n",
    "        print(f\"写入文件时发生错误: {e}\")\n",
    "\n",
    "# 测试数据\n",
    "data_test = {\n",
    "    'timestamp': [\n",
    "        '2024-06-25 14:37:00', '2024-06-25 14:37:01', '2024-06-25 14:37:02',\n",
    "        '2024-06-25 14:38:03', '2024-06-25 14:38:04', '2024-06-25 14:38:05'\n",
    "    ],\n",
    "    'Vi(V)': [\n",
    "        0.604235, 0.604336, 0.604437,\n",
    "        0.590191, 0.590386, 0.590432\n",
    "    ]\n",
    "}\n",
    "df_test = pd.DataFrame(data_test)\n",
    "var_name_test = \"com3_t1_test\"\n",
    "\n",
    "# 调用函数进行处理\n",
    "saveToFile_csv(df_test, var_name_test)\n"
   ]
  },
  {
   "cell_type": "code",
   "execution_count": 69,
   "id": "472905e5",
   "metadata": {},
   "outputs": [
    {
     "name": "stdout",
     "output_type": "stream",
     "text": [
      "./tmpData\\t2_com3_202406271324.csv 写入成功\n"
     ]
    }
   ],
   "source": [
    "saveToFile_csv(t2_com3, \"t2_com3\")"
   ]
  },
  {
   "cell_type": "markdown",
   "id": "9834da81",
   "metadata": {},
   "source": [
    "# 四、整合命令"
   ]
  },
  {
   "cell_type": "markdown",
   "id": "9ecf9f18",
   "metadata": {},
   "source": [
    "## 4.1 处理25-26号数据"
   ]
  },
  {
   "cell_type": "code",
   "execution_count": 108,
   "id": "13e684f0",
   "metadata": {},
   "outputs": [
    {
     "name": "stdout",
     "output_type": "stream",
     "text": [
      "E:\\Python_jupyterNotebook\\cityU_data\\orgin_data\\water2_2526\\COM-3\\measureData\\com3-2526.csv\n",
      "E:\\Python_jupyterNotebook\\cityU_data\\orgin_data\\water2_2526\\COM-4\\measureData\\com4-2526.csv\n",
      "E:\\Python_jupyterNotebook\\cityU_data\\orgin_data\\water2_2526\\COM-5\\measureData\\com5-2526.csv\n"
     ]
    }
   ],
   "source": [
    "## 3.0 设置文件路径\n",
    "'''\n",
    "# 批数据目录\n",
    "batchData_dirPath= \"E:\\\\BaiduSyncdisk\\\\Dong_cityu\\\\数据收集与处理\\\\0625-water2_2024-0626-1431\\\\0625-water2\\\\\"\n",
    "\n",
    "# 相对路径：批数据目录下的不同Com目录\n",
    "com3_dirPath = \"COM-3\\\\measureData\\\\\"\n",
    "com4_dirPath = \"COM-4\\\\measureData\\\\\"\n",
    "com4_dirPath = \"COM-5\\\\measureData\\\\\"\n",
    "\n",
    "# 具体文件名\n",
    "com3_file = \"com3_0625-0626.csv\"\n",
    "com4_file = \"com4_0625-0626.csv\"\n",
    "com5_file = \"com5_0625-0626.csv\"\n",
    "'''\n",
    "\n",
    "# 批数据目录\n",
    "# batchData_dirPath= \"E:\\\\BaiduSyncdisk\\\\Dong_cityu\\\\数据收集与处理\\\\0625-water2_2024-0626-1431\\\\0625-water2\\\\\"\n",
    "batchData_dirPath= \"E:\\\\Python_jupyterNotebook\\\\cityU_data\\\\orgin_data\\\\water2_2526\\\\\"\n",
    "\n",
    "\n",
    "# 相对路径：批数据目录下的不同Com目录\n",
    "com3_dirPath = \"COM-3\\\\measureData\\\\\"\n",
    "com4_dirPath = \"COM-4\\\\measureData\\\\\"\n",
    "com5_dirPath = \"COM-5\\\\measureData\\\\\"\n",
    "\n",
    "# 具体文件名\n",
    "com3_file = \"com3-2526.csv\"\n",
    "com4_file = \"com4-2526.csv\"\n",
    "com5_file = \"com5-2526.csv\"\n",
    "\n",
    "# 拼接全名\n",
    "com3_fullName=gainFullName(batchData_dirPath, com3_dirPath, com3_file)\n",
    "com4_fullName=gainFullName(batchData_dirPath, com4_dirPath, com4_file)\n",
    "com5_fullName=gainFullName(batchData_dirPath, com5_dirPath, com5_file)"
   ]
  },
  {
   "cell_type": "code",
   "execution_count": 109,
   "id": "e24c0665",
   "metadata": {},
   "outputs": [],
   "source": [
    "## 3.1 读取数据\n",
    "com3_data = pd.read_csv(com3_fullName, encoding='UTF-8')\n",
    "com4_data = pd.read_csv(com4_fullName, encoding='UTF-8')\n",
    "com5_data = pd.read_csv(com5_fullName, encoding='UTF-8')"
   ]
  },
  {
   "cell_type": "code",
   "execution_count": 110,
   "id": "5fde9b4b",
   "metadata": {},
   "outputs": [],
   "source": [
    "## 3.2 处理数据\n",
    "\n",
    "t_com3=gainMeanValue(com3_data)\n",
    "t_com4=gainMeanValue(com4_data)\n",
    "t_com5=gainMeanValue(com5_data)\n",
    "\n",
    "t2_com3 = changeTimestamp(t_com3)\n",
    "t2_com4 = changeTimestamp(t_com4)\n",
    "t2_com5 = changeTimestamp(t_com5)\n",
    "\n"
   ]
  },
  {
   "cell_type": "code",
   "execution_count": 111,
   "id": "559e9b9f",
   "metadata": {
    "scrolled": true
   },
   "outputs": [
    {
     "name": "stdout",
     "output_type": "stream",
     "text": [
      "./tmpData\\t2_com3_202406271509.csv 写入成功\n",
      "./tmpData\\t2_com4_202406271509.csv 写入成功\n",
      "./tmpData\\t2_com5_202406271509.csv 写入成功\n"
     ]
    }
   ],
   "source": [
    "## 3.3 保存数据\n",
    "saveToFile_csv(t2_com3, \"t2_com3\")\n",
    "saveToFile_csv(t2_com4, \"t2_com4\")\n",
    "saveToFile_csv(t2_com5, \"t2_com5\")"
   ]
  },
  {
   "cell_type": "markdown",
   "id": "8d1fd18e",
   "metadata": {},
   "source": [
    "## 4.2 处理26-27数据"
   ]
  },
  {
   "cell_type": "code",
   "execution_count": null,
   "id": "d1abd7ed",
   "metadata": {},
   "outputs": [],
   "source": []
  },
  {
   "cell_type": "code",
   "execution_count": 19,
   "id": "3edcba1e",
   "metadata": {},
   "outputs": [
    {
     "name": "stdout",
     "output_type": "stream",
     "text": [
      "E:\\Python_jupyterNotebook\\cityU_data\\orgin_data\\water2_2627\\COM-3\\measureData\\com3-2627.csv\n",
      "E:\\Python_jupyterNotebook\\cityU_data\\orgin_data\\water2_2627\\COM-4\\measureData\\com4-2627.csv\n",
      "E:\\Python_jupyterNotebook\\cityU_data\\orgin_data\\water2_2627\\COM-5\\measureData\\com5-2627.csv\n"
     ]
    }
   ],
   "source": [
    "## 3.0 设置文件路径\n",
    "\n",
    "# 批数据目录\n",
    "# batchData_dirPath= \"E:\\\\BaiduSyncdisk\\\\Dong_cityu\\\\数据收集与处理\\\\0625-water2_2024-0626-1431\\\\0625-water2\\\\\"\n",
    "batchData_dirPath= \"E:\\\\Python_jupyterNotebook\\\\cityU_data\\\\orgin_data\\\\water2_2627\\\\\"\n",
    "\n",
    "\n",
    "# 相对路径：批数据目录下的不同Com目录\n",
    "com3_dirPath = \"COM-3\\\\measureData\\\\\"\n",
    "com4_dirPath = \"COM-4\\\\measureData\\\\\"\n",
    "com5_dirPath = \"COM-5\\\\measureData\\\\\"\n",
    "\n",
    "# 具体文件名\n",
    "com3_file = \"com3-2627.csv\"\n",
    "com4_file = \"com4-2627.csv\"\n",
    "com5_file = \"com5-2627.csv\"\n",
    "\n",
    "# 拼接全名\n",
    "com3_fullName=gainFullName(batchData_dirPath, com3_dirPath, com3_file)\n",
    "com4_fullName=gainFullName(batchData_dirPath, com4_dirPath, com4_file)\n",
    "com5_fullName=gainFullName(batchData_dirPath, com5_dirPath, com5_file)"
   ]
  },
  {
   "cell_type": "code",
   "execution_count": 20,
   "id": "bb222883",
   "metadata": {},
   "outputs": [],
   "source": [
    "## 3.1 读取数据\n",
    "com3_data = pd.read_csv(com3_fullName, encoding='UTF-8')\n",
    "com4_data = pd.read_csv(com4_fullName, encoding='UTF-8')\n",
    "com5_data = pd.read_csv(com5_fullName, encoding='UTF-8')"
   ]
  },
  {
   "cell_type": "code",
   "execution_count": 21,
   "id": "bb5b4db3",
   "metadata": {},
   "outputs": [],
   "source": [
    "## 3.2 处理数据\n",
    "\n",
    "t_com3=gainMeanValue(com3_data)\n",
    "t_com4=gainMeanValue(com4_data)\n",
    "t_com5=gainMeanValue(com5_data)\n",
    "\n",
    "t2_com3 = changeTimestamp(t_com3)\n",
    "t2_com4 = changeTimestamp(t_com4)\n",
    "t2_com5 = changeTimestamp(t_com5)\n",
    "\n"
   ]
  },
  {
   "cell_type": "code",
   "execution_count": 115,
   "id": "fd647b9f",
   "metadata": {
    "scrolled": true
   },
   "outputs": [
    {
     "name": "stdout",
     "output_type": "stream",
     "text": [
      "./tmpData\\t2_com3_202406271530.csv 写入成功\n",
      "./tmpData\\t2_com4_202406271530.csv 写入成功\n",
      "./tmpData\\t2_com5_202406271530.csv 写入成功\n"
     ]
    }
   ],
   "source": [
    "## 3.3 保存数据\n",
    "saveToFile_csv(t2_com3, \"t2_com3\")\n",
    "saveToFile_csv(t2_com4, \"t2_com4\")\n",
    "saveToFile_csv(t2_com5, \"t2_com5\")"
   ]
  },
  {
   "cell_type": "code",
   "execution_count": null,
   "id": "72df52a2",
   "metadata": {},
   "outputs": [],
   "source": []
  }
 ],
 "metadata": {
  "kernelspec": {
   "display_name": "Python 3 (ipykernel)",
   "language": "python",
   "name": "python3"
  },
  "language_info": {
   "codemirror_mode": {
    "name": "ipython",
    "version": 3
   },
   "file_extension": ".py",
   "mimetype": "text/x-python",
   "name": "python",
   "nbconvert_exporter": "python",
   "pygments_lexer": "ipython3",
   "version": "3.7.16"
  },
  "toc": {
   "base_numbering": 1,
   "nav_menu": {},
   "number_sections": false,
   "sideBar": true,
   "skip_h1_title": false,
   "title_cell": "Table of Contents",
   "title_sidebar": "Contents",
   "toc_cell": false,
   "toc_position": {
    "height": "calc(100% - 180px)",
    "left": "10px",
    "top": "150px",
    "width": "307.2px"
   },
   "toc_section_display": true,
   "toc_window_display": true
  }
 },
 "nbformat": 4,
 "nbformat_minor": 5
}
